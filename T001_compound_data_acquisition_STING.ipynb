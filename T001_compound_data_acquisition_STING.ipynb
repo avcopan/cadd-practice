{
 "cells": [
  {
   "cell_type": "markdown",
   "id": "f52c6c31",
   "metadata": {},
   "source": [
    "# ChEMBL Data Acquisition\n",
    "\n",
    "Some notes on the theory:\n",
    "\n",
    " - IC50 is used for *inhibitors*\n",
    " - EC50 is used for *stimulators*\n",
    "\n",
    "Confirmed [here](https://en.wikipedia.org/wiki/EC50).\n",
    "\n",
    "In this tutorial, we will:\n",
    "\n",
    "1. Connect to the ChEMBL database.\n",
    "2. Gather *target* data. That is, data regarding a particular protein that we would like to activate or deactivate.\n",
    "3. Gather *bioactivity* and *compound* data, and merge these into a single table describing the properties and bioactivities of various compounds."
   ]
  },
  {
   "cell_type": "markdown",
   "id": "5ef74cae",
   "metadata": {},
   "source": [
    "### 1. Connect to the ChEMBL database\n",
    "\n",
    "First, we set up a new client for connecting to ChEMBL."
   ]
  },
  {
   "cell_type": "code",
   "execution_count": 1,
   "id": "2bb73cb8",
   "metadata": {},
   "outputs": [],
   "source": [
    "from chembl_webresource_client.new_client import new_client\n",
    "\n",
    "targets_api = new_client.target\n",
    "compounds_api = new_client.molecule\n",
    "bioactivities_api = new_client.activity"
   ]
  },
  {
   "cell_type": "markdown",
   "id": "8de14b11",
   "metadata": {},
   "source": [
    "### 2. Identify the Target Protein\n",
    "\n",
    "Now, we define a variable to store the UniProt ID for the target protein of interest: EGFR kinase (UniProt ID P00533, see [here](https://www.uniprot.org/uniprot/P00533))."
   ]
  },
  {
   "cell_type": "code",
   "execution_count": 2,
   "id": "a0d8d8a4",
   "metadata": {},
   "outputs": [],
   "source": [
    "uniprot_id = \"Q86WV6\""
   ]
  },
  {
   "cell_type": "markdown",
   "id": "fd79e361",
   "metadata": {},
   "source": [
    "Next, we search ChEMBL for this target.\n",
    "The `.only()` command here narrows the table returned from ChEMBL to only include certain collumns."
   ]
  },
  {
   "cell_type": "code",
   "execution_count": 3,
   "id": "ce49af6e",
   "metadata": {},
   "outputs": [
    {
     "data": {
      "text/plain": [
       "chembl_webresource_client.query_set.QuerySet"
      ]
     },
     "execution_count": 3,
     "metadata": {},
     "output_type": "execute_result"
    }
   ],
   "source": [
    "targets = targets_api.get(target_components__accession=uniprot_id).only(\n",
    "    \"target_chembl_id\", \"organism\", \"pref_name\", \"target_type\"\n",
    ")\n",
    "type(targets)"
   ]
  },
  {
   "cell_type": "markdown",
   "id": "5af1ad2e",
   "metadata": {},
   "source": [
    "Now, we convert the values returned from ChEMBL into a pandas dataframe.\n",
    "The original `targets` record is a `QuerySet` object -- that is it is a description of a particular type of *search* on the ChEMBL database, that doesn't return the *results* of that search until we ask it to.\n",
    "\n",
    "Converting to a DataFrame here causes the search to be performed and stores the results in our pandas dataframe."
   ]
  },
  {
   "cell_type": "code",
   "execution_count": 4,
   "id": "9a4140e8",
   "metadata": {},
   "outputs": [
    {
     "data": {
      "text/html": [
       "<div>\n",
       "<style scoped>\n",
       "    .dataframe tbody tr th:only-of-type {\n",
       "        vertical-align: middle;\n",
       "    }\n",
       "\n",
       "    .dataframe tbody tr th {\n",
       "        vertical-align: top;\n",
       "    }\n",
       "\n",
       "    .dataframe thead th {\n",
       "        text-align: right;\n",
       "    }\n",
       "</style>\n",
       "<table border=\"1\" class=\"dataframe\">\n",
       "  <thead>\n",
       "    <tr style=\"text-align: right;\">\n",
       "      <th></th>\n",
       "      <th>organism</th>\n",
       "      <th>pref_name</th>\n",
       "      <th>target_chembl_id</th>\n",
       "      <th>target_type</th>\n",
       "    </tr>\n",
       "  </thead>\n",
       "  <tbody>\n",
       "    <tr>\n",
       "      <th>0</th>\n",
       "      <td>Homo sapiens</td>\n",
       "      <td>Stimulator of interferon genes protein</td>\n",
       "      <td>CHEMBL4523377</td>\n",
       "      <td>SINGLE PROTEIN</td>\n",
       "    </tr>\n",
       "    <tr>\n",
       "      <th>1</th>\n",
       "      <td>Homo sapiens</td>\n",
       "      <td>Stimulator of interferon genes protein</td>\n",
       "      <td>CHEMBL4523377</td>\n",
       "      <td>SINGLE PROTEIN</td>\n",
       "    </tr>\n",
       "  </tbody>\n",
       "</table>\n",
       "</div>"
      ],
      "text/plain": [
       "       organism                               pref_name target_chembl_id  \\\n",
       "0  Homo sapiens  Stimulator of interferon genes protein    CHEMBL4523377   \n",
       "1  Homo sapiens  Stimulator of interferon genes protein    CHEMBL4523377   \n",
       "\n",
       "      target_type  \n",
       "0  SINGLE PROTEIN  \n",
       "1  SINGLE PROTEIN  "
      ]
     },
     "execution_count": 4,
     "metadata": {},
     "output_type": "execute_result"
    }
   ],
   "source": [
    "import pandas as pd\n",
    "\n",
    "targets_df = pd.DataFrame.from_records(targets)\n",
    "targets_df"
   ]
  },
  {
   "cell_type": "markdown",
   "id": "9e8449aa",
   "metadata": {},
   "source": [
    "These are all of the search results matching our query.\n",
    "We only care about the first one, so we can select it from the DataFrame using [the `iloc` method](https://pandas.pydata.org/docs/reference/api/pandas.DataFrame.iloc.html)."
   ]
  },
  {
   "cell_type": "code",
   "execution_count": 5,
   "id": "bb88cc06",
   "metadata": {},
   "outputs": [
    {
     "data": {
      "text/plain": [
       "organism                                      Homo sapiens\n",
       "pref_name           Stimulator of interferon genes protein\n",
       "target_chembl_id                             CHEMBL4523377\n",
       "target_type                                 SINGLE PROTEIN\n",
       "Name: 0, dtype: object"
      ]
     },
     "execution_count": 5,
     "metadata": {},
     "output_type": "execute_result"
    }
   ],
   "source": [
    "target = targets_df.iloc[0]\n",
    "target"
   ]
  },
  {
   "cell_type": "markdown",
   "id": "93b3bcc3",
   "metadata": {},
   "source": [
    "Now, save the ChEMBL ID for the target, which can be seen above.\n",
    "Specific entries from a row can be accessed either as\n",
    "```\n",
    "target.<column name>\n",
    "```\n",
    "or as\n",
    "```\n",
    "target[\"column name\"]\n",
    "```"
   ]
  },
  {
   "cell_type": "code",
   "execution_count": 6,
   "id": "e194d6d5",
   "metadata": {},
   "outputs": [
    {
     "name": "stdout",
     "output_type": "stream",
     "text": [
      "CHEMBL4523377\n",
      "CHEMBL4523377\n"
     ]
    }
   ],
   "source": [
    "chembl_id = target[\"target_chembl_id\"]\n",
    "print(chembl_id)\n",
    "# ^ this does the same thing as this:\n",
    "chembl_id = target.target_chembl_id\n",
    "print(chembl_id)"
   ]
  },
  {
   "cell_type": "markdown",
   "id": "43f30a74",
   "metadata": {},
   "source": [
    "### 3. Find Bioactivities for the Target Protein\n",
    "\n",
    "Next, we are going to search for bioactivity data, only considering human proteins with bioactivity type IC50.\n",
    "I believe that if we were looking for a drug that stimulates rather than inhibits a protein, we would be looking for EC50 here.\n",
    "The `assay_type=\"B\"` argument says that we are looking for binding data, i.e. data measuring the binding of a compound to a molecular target.\n",
    "Other assay types can be found [here](https://chembl.gitbook.io/chembl-interface-documentation/frequently-asked-questions/general-questions#what-is-the-assay-type).\n",
    "\n",
    "Again, we filter the resulting query values to only include certain columns."
   ]
  },
  {
   "cell_type": "code",
   "execution_count": 7,
   "id": "0ba1161f",
   "metadata": {},
   "outputs": [],
   "source": [
    "bioactivities = bioactivities_api.filter(\n",
    "    target_chembl_id=chembl_id,\n",
    "    type=\"EC50\",\n",
    "    relation=\"=\",\n",
    "    assay_type=\"B\",\n",
    ").only(\n",
    "    \"activity_id\",\n",
    "    \"assay_chembl_id\",\n",
    "    \"assay_description\",\n",
    "    \"assay_type\",\n",
    "    \"molecule_chembl_id\",\n",
    "    \"type\",\n",
    "    \"standard_units\",\n",
    "    \"relation\",\n",
    "    \"standard_value\",\n",
    "    \"target_chembl_id\",\n",
    "    \"target_organism\",\n",
    ")"
   ]
  },
  {
   "cell_type": "markdown",
   "id": "52dc3821",
   "metadata": {},
   "source": [
    "Note that we have included the following among our requested columns:\n",
    " - The standard units used for measuring IC50.\n",
    " - The value of the IC50 in these units.\n",
    " - The target organism (we are interested in Homo sapiens).\n",
    "Including standard units and values ensures that we can compare IC50s directly.\n",
    "\n",
    "Let's print the first two results from this query."
   ]
  },
  {
   "cell_type": "markdown",
   "id": "c1e86424",
   "metadata": {},
   "source": [
    "Now, again, let's store the result of this query to a pandas DataFrame.\n",
    "\n",
    "We can use [the `.head()` method](https://pandas.pydata.org/docs/reference/api/pandas.DataFrame.head.html) to return only the first `n` rows of the DataFrame."
   ]
  },
  {
   "cell_type": "code",
   "execution_count": 8,
   "id": "19b503c8",
   "metadata": {},
   "outputs": [
    {
     "name": "stdout",
     "output_type": "stream",
     "text": [
      "DataFrame shape: (239, 13)\n"
     ]
    },
    {
     "data": {
      "text/html": [
       "<div>\n",
       "<style scoped>\n",
       "    .dataframe tbody tr th:only-of-type {\n",
       "        vertical-align: middle;\n",
       "    }\n",
       "\n",
       "    .dataframe tbody tr th {\n",
       "        vertical-align: top;\n",
       "    }\n",
       "\n",
       "    .dataframe thead th {\n",
       "        text-align: right;\n",
       "    }\n",
       "</style>\n",
       "<table border=\"1\" class=\"dataframe\">\n",
       "  <thead>\n",
       "    <tr style=\"text-align: right;\">\n",
       "      <th></th>\n",
       "      <th>activity_id</th>\n",
       "      <th>assay_chembl_id</th>\n",
       "      <th>assay_description</th>\n",
       "      <th>assay_type</th>\n",
       "      <th>molecule_chembl_id</th>\n",
       "      <th>relation</th>\n",
       "      <th>standard_units</th>\n",
       "      <th>standard_value</th>\n",
       "      <th>target_chembl_id</th>\n",
       "      <th>target_organism</th>\n",
       "      <th>type</th>\n",
       "      <th>units</th>\n",
       "      <th>value</th>\n",
       "    </tr>\n",
       "  </thead>\n",
       "  <tbody>\n",
       "    <tr>\n",
       "      <th>0</th>\n",
       "      <td>18928369</td>\n",
       "      <td>CHEMBL4325121</td>\n",
       "      <td>Agonist activity at STING in human THP1 cells ...</td>\n",
       "      <td>B</td>\n",
       "      <td>CHEMBL4520179</td>\n",
       "      <td>=</td>\n",
       "      <td>nM</td>\n",
       "      <td>2200.0</td>\n",
       "      <td>CHEMBL4523377</td>\n",
       "      <td>Homo sapiens</td>\n",
       "      <td>EC50</td>\n",
       "      <td>uM</td>\n",
       "      <td>2.2</td>\n",
       "    </tr>\n",
       "    <tr>\n",
       "      <th>1</th>\n",
       "      <td>18928369</td>\n",
       "      <td>CHEMBL4325121</td>\n",
       "      <td>Agonist activity at STING in human THP1 cells ...</td>\n",
       "      <td>B</td>\n",
       "      <td>CHEMBL4520179</td>\n",
       "      <td>=</td>\n",
       "      <td>nM</td>\n",
       "      <td>2200.0</td>\n",
       "      <td>CHEMBL4523377</td>\n",
       "      <td>Homo sapiens</td>\n",
       "      <td>EC50</td>\n",
       "      <td>uM</td>\n",
       "      <td>2.2</td>\n",
       "    </tr>\n",
       "    <tr>\n",
       "      <th>2</th>\n",
       "      <td>18928377</td>\n",
       "      <td>CHEMBL4325121</td>\n",
       "      <td>Agonist activity at STING in human THP1 cells ...</td>\n",
       "      <td>B</td>\n",
       "      <td>CHEMBL4441285</td>\n",
       "      <td>=</td>\n",
       "      <td>nM</td>\n",
       "      <td>872.0</td>\n",
       "      <td>CHEMBL4523377</td>\n",
       "      <td>Homo sapiens</td>\n",
       "      <td>EC50</td>\n",
       "      <td>uM</td>\n",
       "      <td>0.872</td>\n",
       "    </tr>\n",
       "    <tr>\n",
       "      <th>3</th>\n",
       "      <td>18928378</td>\n",
       "      <td>CHEMBL4325121</td>\n",
       "      <td>Agonist activity at STING in human THP1 cells ...</td>\n",
       "      <td>B</td>\n",
       "      <td>CHEMBL4534434</td>\n",
       "      <td>=</td>\n",
       "      <td>nM</td>\n",
       "      <td>3300.0</td>\n",
       "      <td>CHEMBL4523377</td>\n",
       "      <td>Homo sapiens</td>\n",
       "      <td>EC50</td>\n",
       "      <td>uM</td>\n",
       "      <td>3.3</td>\n",
       "    </tr>\n",
       "    <tr>\n",
       "      <th>4</th>\n",
       "      <td>18928379</td>\n",
       "      <td>CHEMBL4325121</td>\n",
       "      <td>Agonist activity at STING in human THP1 cells ...</td>\n",
       "      <td>B</td>\n",
       "      <td>CHEMBL4465054</td>\n",
       "      <td>=</td>\n",
       "      <td>nM</td>\n",
       "      <td>38600.0</td>\n",
       "      <td>CHEMBL4523377</td>\n",
       "      <td>Homo sapiens</td>\n",
       "      <td>EC50</td>\n",
       "      <td>uM</td>\n",
       "      <td>38.6</td>\n",
       "    </tr>\n",
       "    <tr>\n",
       "      <th>5</th>\n",
       "      <td>18928411</td>\n",
       "      <td>CHEMBL4325121</td>\n",
       "      <td>Agonist activity at STING in human THP1 cells ...</td>\n",
       "      <td>B</td>\n",
       "      <td>CHEMBL4440230</td>\n",
       "      <td>=</td>\n",
       "      <td>nM</td>\n",
       "      <td>1140.0</td>\n",
       "      <td>CHEMBL4523377</td>\n",
       "      <td>Homo sapiens</td>\n",
       "      <td>EC50</td>\n",
       "      <td>uM</td>\n",
       "      <td>1.14</td>\n",
       "    </tr>\n",
       "    <tr>\n",
       "      <th>6</th>\n",
       "      <td>18928413</td>\n",
       "      <td>CHEMBL4325121</td>\n",
       "      <td>Agonist activity at STING in human THP1 cells ...</td>\n",
       "      <td>B</td>\n",
       "      <td>CHEMBL4516456</td>\n",
       "      <td>=</td>\n",
       "      <td>nM</td>\n",
       "      <td>1900.0</td>\n",
       "      <td>CHEMBL4523377</td>\n",
       "      <td>Homo sapiens</td>\n",
       "      <td>EC50</td>\n",
       "      <td>uM</td>\n",
       "      <td>1.9</td>\n",
       "    </tr>\n",
       "    <tr>\n",
       "      <th>7</th>\n",
       "      <td>18928414</td>\n",
       "      <td>CHEMBL4325121</td>\n",
       "      <td>Agonist activity at STING in human THP1 cells ...</td>\n",
       "      <td>B</td>\n",
       "      <td>CHEMBL4526896</td>\n",
       "      <td>=</td>\n",
       "      <td>nM</td>\n",
       "      <td>287.0</td>\n",
       "      <td>CHEMBL4523377</td>\n",
       "      <td>Homo sapiens</td>\n",
       "      <td>EC50</td>\n",
       "      <td>uM</td>\n",
       "      <td>0.287</td>\n",
       "    </tr>\n",
       "    <tr>\n",
       "      <th>8</th>\n",
       "      <td>18928416</td>\n",
       "      <td>CHEMBL4325121</td>\n",
       "      <td>Agonist activity at STING in human THP1 cells ...</td>\n",
       "      <td>B</td>\n",
       "      <td>CHEMBL4540261</td>\n",
       "      <td>=</td>\n",
       "      <td>nM</td>\n",
       "      <td>2850.0</td>\n",
       "      <td>CHEMBL4523377</td>\n",
       "      <td>Homo sapiens</td>\n",
       "      <td>EC50</td>\n",
       "      <td>uM</td>\n",
       "      <td>2.85</td>\n",
       "    </tr>\n",
       "    <tr>\n",
       "      <th>9</th>\n",
       "      <td>18928417</td>\n",
       "      <td>CHEMBL4325121</td>\n",
       "      <td>Agonist activity at STING in human THP1 cells ...</td>\n",
       "      <td>B</td>\n",
       "      <td>CHEMBL4445004</td>\n",
       "      <td>=</td>\n",
       "      <td>nM</td>\n",
       "      <td>3000.0</td>\n",
       "      <td>CHEMBL4523377</td>\n",
       "      <td>Homo sapiens</td>\n",
       "      <td>EC50</td>\n",
       "      <td>uM</td>\n",
       "      <td>3.0</td>\n",
       "    </tr>\n",
       "  </tbody>\n",
       "</table>\n",
       "</div>"
      ],
      "text/plain": [
       "   activity_id assay_chembl_id  \\\n",
       "0     18928369   CHEMBL4325121   \n",
       "1     18928369   CHEMBL4325121   \n",
       "2     18928377   CHEMBL4325121   \n",
       "3     18928378   CHEMBL4325121   \n",
       "4     18928379   CHEMBL4325121   \n",
       "5     18928411   CHEMBL4325121   \n",
       "6     18928413   CHEMBL4325121   \n",
       "7     18928414   CHEMBL4325121   \n",
       "8     18928416   CHEMBL4325121   \n",
       "9     18928417   CHEMBL4325121   \n",
       "\n",
       "                                   assay_description assay_type  \\\n",
       "0  Agonist activity at STING in human THP1 cells ...          B   \n",
       "1  Agonist activity at STING in human THP1 cells ...          B   \n",
       "2  Agonist activity at STING in human THP1 cells ...          B   \n",
       "3  Agonist activity at STING in human THP1 cells ...          B   \n",
       "4  Agonist activity at STING in human THP1 cells ...          B   \n",
       "5  Agonist activity at STING in human THP1 cells ...          B   \n",
       "6  Agonist activity at STING in human THP1 cells ...          B   \n",
       "7  Agonist activity at STING in human THP1 cells ...          B   \n",
       "8  Agonist activity at STING in human THP1 cells ...          B   \n",
       "9  Agonist activity at STING in human THP1 cells ...          B   \n",
       "\n",
       "  molecule_chembl_id relation standard_units standard_value target_chembl_id  \\\n",
       "0      CHEMBL4520179        =             nM         2200.0    CHEMBL4523377   \n",
       "1      CHEMBL4520179        =             nM         2200.0    CHEMBL4523377   \n",
       "2      CHEMBL4441285        =             nM          872.0    CHEMBL4523377   \n",
       "3      CHEMBL4534434        =             nM         3300.0    CHEMBL4523377   \n",
       "4      CHEMBL4465054        =             nM        38600.0    CHEMBL4523377   \n",
       "5      CHEMBL4440230        =             nM         1140.0    CHEMBL4523377   \n",
       "6      CHEMBL4516456        =             nM         1900.0    CHEMBL4523377   \n",
       "7      CHEMBL4526896        =             nM          287.0    CHEMBL4523377   \n",
       "8      CHEMBL4540261        =             nM         2850.0    CHEMBL4523377   \n",
       "9      CHEMBL4445004        =             nM         3000.0    CHEMBL4523377   \n",
       "\n",
       "  target_organism  type units  value  \n",
       "0    Homo sapiens  EC50    uM    2.2  \n",
       "1    Homo sapiens  EC50    uM    2.2  \n",
       "2    Homo sapiens  EC50    uM  0.872  \n",
       "3    Homo sapiens  EC50    uM    3.3  \n",
       "4    Homo sapiens  EC50    uM   38.6  \n",
       "5    Homo sapiens  EC50    uM   1.14  \n",
       "6    Homo sapiens  EC50    uM    1.9  \n",
       "7    Homo sapiens  EC50    uM  0.287  \n",
       "8    Homo sapiens  EC50    uM   2.85  \n",
       "9    Homo sapiens  EC50    uM    3.0  "
      ]
     },
     "execution_count": 8,
     "metadata": {},
     "output_type": "execute_result"
    }
   ],
   "source": [
    "bioactivities_df = pd.DataFrame.from_records(bioactivities)\n",
    "print(f\"DataFrame shape: {bioactivities_df.shape}\")\n",
    "bioactivities_df.head(n=10)"
   ]
  },
  {
   "cell_type": "markdown",
   "id": "0c050cc6",
   "metadata": {},
   "source": [
    "Since we have standard units and values, we can drop the compound-specific units and values from the table using the .drop() method:"
   ]
  },
  {
   "cell_type": "code",
   "execution_count": 9,
   "id": "63efbe1f",
   "metadata": {},
   "outputs": [
    {
     "data": {
      "text/html": [
       "<div>\n",
       "<style scoped>\n",
       "    .dataframe tbody tr th:only-of-type {\n",
       "        vertical-align: middle;\n",
       "    }\n",
       "\n",
       "    .dataframe tbody tr th {\n",
       "        vertical-align: top;\n",
       "    }\n",
       "\n",
       "    .dataframe thead th {\n",
       "        text-align: right;\n",
       "    }\n",
       "</style>\n",
       "<table border=\"1\" class=\"dataframe\">\n",
       "  <thead>\n",
       "    <tr style=\"text-align: right;\">\n",
       "      <th></th>\n",
       "      <th>activity_id</th>\n",
       "      <th>assay_chembl_id</th>\n",
       "      <th>assay_description</th>\n",
       "      <th>assay_type</th>\n",
       "      <th>molecule_chembl_id</th>\n",
       "      <th>relation</th>\n",
       "      <th>standard_units</th>\n",
       "      <th>standard_value</th>\n",
       "      <th>target_chembl_id</th>\n",
       "      <th>target_organism</th>\n",
       "      <th>type</th>\n",
       "    </tr>\n",
       "  </thead>\n",
       "  <tbody>\n",
       "    <tr>\n",
       "      <th>0</th>\n",
       "      <td>18928369</td>\n",
       "      <td>CHEMBL4325121</td>\n",
       "      <td>Agonist activity at STING in human THP1 cells ...</td>\n",
       "      <td>B</td>\n",
       "      <td>CHEMBL4520179</td>\n",
       "      <td>=</td>\n",
       "      <td>nM</td>\n",
       "      <td>2200.0</td>\n",
       "      <td>CHEMBL4523377</td>\n",
       "      <td>Homo sapiens</td>\n",
       "      <td>EC50</td>\n",
       "    </tr>\n",
       "    <tr>\n",
       "      <th>1</th>\n",
       "      <td>18928369</td>\n",
       "      <td>CHEMBL4325121</td>\n",
       "      <td>Agonist activity at STING in human THP1 cells ...</td>\n",
       "      <td>B</td>\n",
       "      <td>CHEMBL4520179</td>\n",
       "      <td>=</td>\n",
       "      <td>nM</td>\n",
       "      <td>2200.0</td>\n",
       "      <td>CHEMBL4523377</td>\n",
       "      <td>Homo sapiens</td>\n",
       "      <td>EC50</td>\n",
       "    </tr>\n",
       "    <tr>\n",
       "      <th>2</th>\n",
       "      <td>18928377</td>\n",
       "      <td>CHEMBL4325121</td>\n",
       "      <td>Agonist activity at STING in human THP1 cells ...</td>\n",
       "      <td>B</td>\n",
       "      <td>CHEMBL4441285</td>\n",
       "      <td>=</td>\n",
       "      <td>nM</td>\n",
       "      <td>872.0</td>\n",
       "      <td>CHEMBL4523377</td>\n",
       "      <td>Homo sapiens</td>\n",
       "      <td>EC50</td>\n",
       "    </tr>\n",
       "    <tr>\n",
       "      <th>3</th>\n",
       "      <td>18928378</td>\n",
       "      <td>CHEMBL4325121</td>\n",
       "      <td>Agonist activity at STING in human THP1 cells ...</td>\n",
       "      <td>B</td>\n",
       "      <td>CHEMBL4534434</td>\n",
       "      <td>=</td>\n",
       "      <td>nM</td>\n",
       "      <td>3300.0</td>\n",
       "      <td>CHEMBL4523377</td>\n",
       "      <td>Homo sapiens</td>\n",
       "      <td>EC50</td>\n",
       "    </tr>\n",
       "    <tr>\n",
       "      <th>4</th>\n",
       "      <td>18928379</td>\n",
       "      <td>CHEMBL4325121</td>\n",
       "      <td>Agonist activity at STING in human THP1 cells ...</td>\n",
       "      <td>B</td>\n",
       "      <td>CHEMBL4465054</td>\n",
       "      <td>=</td>\n",
       "      <td>nM</td>\n",
       "      <td>38600.0</td>\n",
       "      <td>CHEMBL4523377</td>\n",
       "      <td>Homo sapiens</td>\n",
       "      <td>EC50</td>\n",
       "    </tr>\n",
       "    <tr>\n",
       "      <th>5</th>\n",
       "      <td>18928411</td>\n",
       "      <td>CHEMBL4325121</td>\n",
       "      <td>Agonist activity at STING in human THP1 cells ...</td>\n",
       "      <td>B</td>\n",
       "      <td>CHEMBL4440230</td>\n",
       "      <td>=</td>\n",
       "      <td>nM</td>\n",
       "      <td>1140.0</td>\n",
       "      <td>CHEMBL4523377</td>\n",
       "      <td>Homo sapiens</td>\n",
       "      <td>EC50</td>\n",
       "    </tr>\n",
       "    <tr>\n",
       "      <th>6</th>\n",
       "      <td>18928413</td>\n",
       "      <td>CHEMBL4325121</td>\n",
       "      <td>Agonist activity at STING in human THP1 cells ...</td>\n",
       "      <td>B</td>\n",
       "      <td>CHEMBL4516456</td>\n",
       "      <td>=</td>\n",
       "      <td>nM</td>\n",
       "      <td>1900.0</td>\n",
       "      <td>CHEMBL4523377</td>\n",
       "      <td>Homo sapiens</td>\n",
       "      <td>EC50</td>\n",
       "    </tr>\n",
       "    <tr>\n",
       "      <th>7</th>\n",
       "      <td>18928414</td>\n",
       "      <td>CHEMBL4325121</td>\n",
       "      <td>Agonist activity at STING in human THP1 cells ...</td>\n",
       "      <td>B</td>\n",
       "      <td>CHEMBL4526896</td>\n",
       "      <td>=</td>\n",
       "      <td>nM</td>\n",
       "      <td>287.0</td>\n",
       "      <td>CHEMBL4523377</td>\n",
       "      <td>Homo sapiens</td>\n",
       "      <td>EC50</td>\n",
       "    </tr>\n",
       "    <tr>\n",
       "      <th>8</th>\n",
       "      <td>18928416</td>\n",
       "      <td>CHEMBL4325121</td>\n",
       "      <td>Agonist activity at STING in human THP1 cells ...</td>\n",
       "      <td>B</td>\n",
       "      <td>CHEMBL4540261</td>\n",
       "      <td>=</td>\n",
       "      <td>nM</td>\n",
       "      <td>2850.0</td>\n",
       "      <td>CHEMBL4523377</td>\n",
       "      <td>Homo sapiens</td>\n",
       "      <td>EC50</td>\n",
       "    </tr>\n",
       "    <tr>\n",
       "      <th>9</th>\n",
       "      <td>18928417</td>\n",
       "      <td>CHEMBL4325121</td>\n",
       "      <td>Agonist activity at STING in human THP1 cells ...</td>\n",
       "      <td>B</td>\n",
       "      <td>CHEMBL4445004</td>\n",
       "      <td>=</td>\n",
       "      <td>nM</td>\n",
       "      <td>3000.0</td>\n",
       "      <td>CHEMBL4523377</td>\n",
       "      <td>Homo sapiens</td>\n",
       "      <td>EC50</td>\n",
       "    </tr>\n",
       "  </tbody>\n",
       "</table>\n",
       "</div>"
      ],
      "text/plain": [
       "   activity_id assay_chembl_id  \\\n",
       "0     18928369   CHEMBL4325121   \n",
       "1     18928369   CHEMBL4325121   \n",
       "2     18928377   CHEMBL4325121   \n",
       "3     18928378   CHEMBL4325121   \n",
       "4     18928379   CHEMBL4325121   \n",
       "5     18928411   CHEMBL4325121   \n",
       "6     18928413   CHEMBL4325121   \n",
       "7     18928414   CHEMBL4325121   \n",
       "8     18928416   CHEMBL4325121   \n",
       "9     18928417   CHEMBL4325121   \n",
       "\n",
       "                                   assay_description assay_type  \\\n",
       "0  Agonist activity at STING in human THP1 cells ...          B   \n",
       "1  Agonist activity at STING in human THP1 cells ...          B   \n",
       "2  Agonist activity at STING in human THP1 cells ...          B   \n",
       "3  Agonist activity at STING in human THP1 cells ...          B   \n",
       "4  Agonist activity at STING in human THP1 cells ...          B   \n",
       "5  Agonist activity at STING in human THP1 cells ...          B   \n",
       "6  Agonist activity at STING in human THP1 cells ...          B   \n",
       "7  Agonist activity at STING in human THP1 cells ...          B   \n",
       "8  Agonist activity at STING in human THP1 cells ...          B   \n",
       "9  Agonist activity at STING in human THP1 cells ...          B   \n",
       "\n",
       "  molecule_chembl_id relation standard_units standard_value target_chembl_id  \\\n",
       "0      CHEMBL4520179        =             nM         2200.0    CHEMBL4523377   \n",
       "1      CHEMBL4520179        =             nM         2200.0    CHEMBL4523377   \n",
       "2      CHEMBL4441285        =             nM          872.0    CHEMBL4523377   \n",
       "3      CHEMBL4534434        =             nM         3300.0    CHEMBL4523377   \n",
       "4      CHEMBL4465054        =             nM        38600.0    CHEMBL4523377   \n",
       "5      CHEMBL4440230        =             nM         1140.0    CHEMBL4523377   \n",
       "6      CHEMBL4516456        =             nM         1900.0    CHEMBL4523377   \n",
       "7      CHEMBL4526896        =             nM          287.0    CHEMBL4523377   \n",
       "8      CHEMBL4540261        =             nM         2850.0    CHEMBL4523377   \n",
       "9      CHEMBL4445004        =             nM         3000.0    CHEMBL4523377   \n",
       "\n",
       "  target_organism  type  \n",
       "0    Homo sapiens  EC50  \n",
       "1    Homo sapiens  EC50  \n",
       "2    Homo sapiens  EC50  \n",
       "3    Homo sapiens  EC50  \n",
       "4    Homo sapiens  EC50  \n",
       "5    Homo sapiens  EC50  \n",
       "6    Homo sapiens  EC50  \n",
       "7    Homo sapiens  EC50  \n",
       "8    Homo sapiens  EC50  \n",
       "9    Homo sapiens  EC50  "
      ]
     },
     "execution_count": 9,
     "metadata": {},
     "output_type": "execute_result"
    }
   ],
   "source": [
    "bioactivities_df.drop([\"units\", \"value\"], axis=1, inplace=True)\n",
    "bioactivities_df.head(n=10)"
   ]
  },
  {
   "cell_type": "markdown",
   "id": "60b0e20c",
   "metadata": {},
   "source": [
    "Note that the bioactivity values are stored as strings, and all of the column types are `object`:"
   ]
  },
  {
   "cell_type": "code",
   "execution_count": 10,
   "id": "aa046b12",
   "metadata": {},
   "outputs": [
    {
     "data": {
      "text/plain": [
       "activity_id            int64\n",
       "assay_chembl_id       object\n",
       "assay_description     object\n",
       "assay_type            object\n",
       "molecule_chembl_id    object\n",
       "relation              object\n",
       "standard_units        object\n",
       "standard_value        object\n",
       "target_chembl_id      object\n",
       "target_organism       object\n",
       "type                  object\n",
       "dtype: object"
      ]
     },
     "execution_count": 10,
     "metadata": {},
     "output_type": "execute_result"
    }
   ],
   "source": [
    "bioactivities_df.dtypes"
   ]
  },
  {
   "cell_type": "markdown",
   "id": "1ce2fb89",
   "metadata": {},
   "source": [
    "We want to convert the values to `float`s (numbers) so that we can do math with them later on.\n",
    "To do convert column types, we use the `.astype()` method."
   ]
  },
  {
   "cell_type": "code",
   "execution_count": 11,
   "id": "3584024d",
   "metadata": {},
   "outputs": [
    {
     "data": {
      "text/plain": [
       "activity_id             int64\n",
       "assay_chembl_id        object\n",
       "assay_description      object\n",
       "assay_type             object\n",
       "molecule_chembl_id     object\n",
       "relation               object\n",
       "standard_units         object\n",
       "standard_value        float64\n",
       "target_chembl_id       object\n",
       "target_organism        object\n",
       "type                   object\n",
       "dtype: object"
      ]
     },
     "execution_count": 11,
     "metadata": {},
     "output_type": "execute_result"
    }
   ],
   "source": [
    "bioactivities_df = bioactivities_df.astype({\"standard_value\": \"float64\"})\n",
    "bioactivities_df.dtypes"
   ]
  },
  {
   "cell_type": "markdown",
   "id": "55b6be2b",
   "metadata": {},
   "source": [
    "Now, we will drop missing entries (entries without a known activity value) from the table.\n",
    "Using `axis=0` here specifies that we want to search for missing values by row, and `how=\"any\"` specifies that rows in which any value is missing will be dropped.\n",
    "\n",
    "If we print the updated shape, we will see that we have two fewer columns (because we dropped `\"value\"` and `\"units\"` above) and perhaps also fewer rows, if some of them had missing entries."
   ]
  },
  {
   "cell_type": "code",
   "execution_count": 12,
   "id": "28ecd371",
   "metadata": {},
   "outputs": [
    {
     "name": "stdout",
     "output_type": "stream",
     "text": [
      "DataFrame shape: (239, 11)\n"
     ]
    }
   ],
   "source": [
    "bioactivities_df.dropna(axis=0, how=\"any\", inplace=True)\n",
    "print(f\"DataFrame shape: {bioactivities_df.shape}\")"
   ]
  },
  {
   "cell_type": "markdown",
   "id": "0f46f223",
   "metadata": {},
   "source": [
    "Next, we filter out entries where the standard units are something other than `\"nM\"`.\n",
    "If `df` is our DataFrame and we want to select rows with a particular column value, the syntax is as follows:\n",
    "```\n",
    "df[df[\"<column name>\"] == <column value>]\n",
    "```"
   ]
  },
  {
   "cell_type": "code",
   "execution_count": 13,
   "id": "77c5e04e",
   "metadata": {},
   "outputs": [
    {
     "name": "stdout",
     "output_type": "stream",
     "text": [
      "DataFrame shape: (239, 11)\n"
     ]
    }
   ],
   "source": [
    "bioactivities_df = bioactivities_df[bioactivities_df[\"standard_units\"] == \"nM\"]\n",
    "print(f\"DataFrame shape: {bioactivities_df.shape}\")"
   ]
  },
  {
   "cell_type": "markdown",
   "id": "6694ef60",
   "metadata": {},
   "source": [
    "Next, we delete duplicates (molecules which have been tested more than once will appear multiple times).\n",
    "\n",
    "We identify duplicates based on the `\"molecule_chembl_id\"` column."
   ]
  },
  {
   "cell_type": "code",
   "execution_count": 14,
   "id": "b3e79f77",
   "metadata": {},
   "outputs": [
    {
     "name": "stdout",
     "output_type": "stream",
     "text": [
      "DataFrame shape: (70, 11)\n"
     ]
    }
   ],
   "source": [
    "bioactivities_df.drop_duplicates(\"molecule_chembl_id\", keep=\"first\", inplace=True)\n",
    "print(f\"DataFrame shape: {bioactivities_df.shape}\")"
   ]
  },
  {
   "cell_type": "markdown",
   "id": "694f1077",
   "metadata": {},
   "source": [
    "After deleting some rows, the row index for the table currently skips values.\n",
    "To make it easier to work with, we will reset the index."
   ]
  },
  {
   "cell_type": "code",
   "execution_count": 15,
   "id": "19770013",
   "metadata": {},
   "outputs": [
    {
     "data": {
      "text/html": [
       "<div>\n",
       "<style scoped>\n",
       "    .dataframe tbody tr th:only-of-type {\n",
       "        vertical-align: middle;\n",
       "    }\n",
       "\n",
       "    .dataframe tbody tr th {\n",
       "        vertical-align: top;\n",
       "    }\n",
       "\n",
       "    .dataframe thead th {\n",
       "        text-align: right;\n",
       "    }\n",
       "</style>\n",
       "<table border=\"1\" class=\"dataframe\">\n",
       "  <thead>\n",
       "    <tr style=\"text-align: right;\">\n",
       "      <th></th>\n",
       "      <th>activity_id</th>\n",
       "      <th>assay_chembl_id</th>\n",
       "      <th>assay_description</th>\n",
       "      <th>assay_type</th>\n",
       "      <th>molecule_chembl_id</th>\n",
       "      <th>relation</th>\n",
       "      <th>standard_units</th>\n",
       "      <th>standard_value</th>\n",
       "      <th>target_chembl_id</th>\n",
       "      <th>target_organism</th>\n",
       "      <th>type</th>\n",
       "    </tr>\n",
       "  </thead>\n",
       "  <tbody>\n",
       "    <tr>\n",
       "      <th>0</th>\n",
       "      <td>18928369</td>\n",
       "      <td>CHEMBL4325121</td>\n",
       "      <td>Agonist activity at STING in human THP1 cells ...</td>\n",
       "      <td>B</td>\n",
       "      <td>CHEMBL4520179</td>\n",
       "      <td>=</td>\n",
       "      <td>nM</td>\n",
       "      <td>2200.0</td>\n",
       "      <td>CHEMBL4523377</td>\n",
       "      <td>Homo sapiens</td>\n",
       "      <td>EC50</td>\n",
       "    </tr>\n",
       "    <tr>\n",
       "      <th>1</th>\n",
       "      <td>18928377</td>\n",
       "      <td>CHEMBL4325121</td>\n",
       "      <td>Agonist activity at STING in human THP1 cells ...</td>\n",
       "      <td>B</td>\n",
       "      <td>CHEMBL4441285</td>\n",
       "      <td>=</td>\n",
       "      <td>nM</td>\n",
       "      <td>872.0</td>\n",
       "      <td>CHEMBL4523377</td>\n",
       "      <td>Homo sapiens</td>\n",
       "      <td>EC50</td>\n",
       "    </tr>\n",
       "    <tr>\n",
       "      <th>2</th>\n",
       "      <td>18928378</td>\n",
       "      <td>CHEMBL4325121</td>\n",
       "      <td>Agonist activity at STING in human THP1 cells ...</td>\n",
       "      <td>B</td>\n",
       "      <td>CHEMBL4534434</td>\n",
       "      <td>=</td>\n",
       "      <td>nM</td>\n",
       "      <td>3300.0</td>\n",
       "      <td>CHEMBL4523377</td>\n",
       "      <td>Homo sapiens</td>\n",
       "      <td>EC50</td>\n",
       "    </tr>\n",
       "    <tr>\n",
       "      <th>3</th>\n",
       "      <td>18928379</td>\n",
       "      <td>CHEMBL4325121</td>\n",
       "      <td>Agonist activity at STING in human THP1 cells ...</td>\n",
       "      <td>B</td>\n",
       "      <td>CHEMBL4465054</td>\n",
       "      <td>=</td>\n",
       "      <td>nM</td>\n",
       "      <td>38600.0</td>\n",
       "      <td>CHEMBL4523377</td>\n",
       "      <td>Homo sapiens</td>\n",
       "      <td>EC50</td>\n",
       "    </tr>\n",
       "    <tr>\n",
       "      <th>4</th>\n",
       "      <td>18928411</td>\n",
       "      <td>CHEMBL4325121</td>\n",
       "      <td>Agonist activity at STING in human THP1 cells ...</td>\n",
       "      <td>B</td>\n",
       "      <td>CHEMBL4440230</td>\n",
       "      <td>=</td>\n",
       "      <td>nM</td>\n",
       "      <td>1140.0</td>\n",
       "      <td>CHEMBL4523377</td>\n",
       "      <td>Homo sapiens</td>\n",
       "      <td>EC50</td>\n",
       "    </tr>\n",
       "    <tr>\n",
       "      <th>5</th>\n",
       "      <td>18928413</td>\n",
       "      <td>CHEMBL4325121</td>\n",
       "      <td>Agonist activity at STING in human THP1 cells ...</td>\n",
       "      <td>B</td>\n",
       "      <td>CHEMBL4516456</td>\n",
       "      <td>=</td>\n",
       "      <td>nM</td>\n",
       "      <td>1900.0</td>\n",
       "      <td>CHEMBL4523377</td>\n",
       "      <td>Homo sapiens</td>\n",
       "      <td>EC50</td>\n",
       "    </tr>\n",
       "    <tr>\n",
       "      <th>6</th>\n",
       "      <td>18928414</td>\n",
       "      <td>CHEMBL4325121</td>\n",
       "      <td>Agonist activity at STING in human THP1 cells ...</td>\n",
       "      <td>B</td>\n",
       "      <td>CHEMBL4526896</td>\n",
       "      <td>=</td>\n",
       "      <td>nM</td>\n",
       "      <td>287.0</td>\n",
       "      <td>CHEMBL4523377</td>\n",
       "      <td>Homo sapiens</td>\n",
       "      <td>EC50</td>\n",
       "    </tr>\n",
       "    <tr>\n",
       "      <th>7</th>\n",
       "      <td>18928416</td>\n",
       "      <td>CHEMBL4325121</td>\n",
       "      <td>Agonist activity at STING in human THP1 cells ...</td>\n",
       "      <td>B</td>\n",
       "      <td>CHEMBL4540261</td>\n",
       "      <td>=</td>\n",
       "      <td>nM</td>\n",
       "      <td>2850.0</td>\n",
       "      <td>CHEMBL4523377</td>\n",
       "      <td>Homo sapiens</td>\n",
       "      <td>EC50</td>\n",
       "    </tr>\n",
       "    <tr>\n",
       "      <th>8</th>\n",
       "      <td>18928417</td>\n",
       "      <td>CHEMBL4325121</td>\n",
       "      <td>Agonist activity at STING in human THP1 cells ...</td>\n",
       "      <td>B</td>\n",
       "      <td>CHEMBL4445004</td>\n",
       "      <td>=</td>\n",
       "      <td>nM</td>\n",
       "      <td>3000.0</td>\n",
       "      <td>CHEMBL4523377</td>\n",
       "      <td>Homo sapiens</td>\n",
       "      <td>EC50</td>\n",
       "    </tr>\n",
       "    <tr>\n",
       "      <th>9</th>\n",
       "      <td>18928418</td>\n",
       "      <td>CHEMBL4325121</td>\n",
       "      <td>Agonist activity at STING in human THP1 cells ...</td>\n",
       "      <td>B</td>\n",
       "      <td>CHEMBL4456973</td>\n",
       "      <td>=</td>\n",
       "      <td>nM</td>\n",
       "      <td>1240.0</td>\n",
       "      <td>CHEMBL4523377</td>\n",
       "      <td>Homo sapiens</td>\n",
       "      <td>EC50</td>\n",
       "    </tr>\n",
       "  </tbody>\n",
       "</table>\n",
       "</div>"
      ],
      "text/plain": [
       "   activity_id assay_chembl_id  \\\n",
       "0     18928369   CHEMBL4325121   \n",
       "1     18928377   CHEMBL4325121   \n",
       "2     18928378   CHEMBL4325121   \n",
       "3     18928379   CHEMBL4325121   \n",
       "4     18928411   CHEMBL4325121   \n",
       "5     18928413   CHEMBL4325121   \n",
       "6     18928414   CHEMBL4325121   \n",
       "7     18928416   CHEMBL4325121   \n",
       "8     18928417   CHEMBL4325121   \n",
       "9     18928418   CHEMBL4325121   \n",
       "\n",
       "                                   assay_description assay_type  \\\n",
       "0  Agonist activity at STING in human THP1 cells ...          B   \n",
       "1  Agonist activity at STING in human THP1 cells ...          B   \n",
       "2  Agonist activity at STING in human THP1 cells ...          B   \n",
       "3  Agonist activity at STING in human THP1 cells ...          B   \n",
       "4  Agonist activity at STING in human THP1 cells ...          B   \n",
       "5  Agonist activity at STING in human THP1 cells ...          B   \n",
       "6  Agonist activity at STING in human THP1 cells ...          B   \n",
       "7  Agonist activity at STING in human THP1 cells ...          B   \n",
       "8  Agonist activity at STING in human THP1 cells ...          B   \n",
       "9  Agonist activity at STING in human THP1 cells ...          B   \n",
       "\n",
       "  molecule_chembl_id relation standard_units  standard_value target_chembl_id  \\\n",
       "0      CHEMBL4520179        =             nM          2200.0    CHEMBL4523377   \n",
       "1      CHEMBL4441285        =             nM           872.0    CHEMBL4523377   \n",
       "2      CHEMBL4534434        =             nM          3300.0    CHEMBL4523377   \n",
       "3      CHEMBL4465054        =             nM         38600.0    CHEMBL4523377   \n",
       "4      CHEMBL4440230        =             nM          1140.0    CHEMBL4523377   \n",
       "5      CHEMBL4516456        =             nM          1900.0    CHEMBL4523377   \n",
       "6      CHEMBL4526896        =             nM           287.0    CHEMBL4523377   \n",
       "7      CHEMBL4540261        =             nM          2850.0    CHEMBL4523377   \n",
       "8      CHEMBL4445004        =             nM          3000.0    CHEMBL4523377   \n",
       "9      CHEMBL4456973        =             nM          1240.0    CHEMBL4523377   \n",
       "\n",
       "  target_organism  type  \n",
       "0    Homo sapiens  EC50  \n",
       "1    Homo sapiens  EC50  \n",
       "2    Homo sapiens  EC50  \n",
       "3    Homo sapiens  EC50  \n",
       "4    Homo sapiens  EC50  \n",
       "5    Homo sapiens  EC50  \n",
       "6    Homo sapiens  EC50  \n",
       "7    Homo sapiens  EC50  \n",
       "8    Homo sapiens  EC50  \n",
       "9    Homo sapiens  EC50  "
      ]
     },
     "execution_count": 15,
     "metadata": {},
     "output_type": "execute_result"
    }
   ],
   "source": [
    "bioactivities_df.reset_index(drop=True, inplace=True)\n",
    "bioactivities_df.head(n=10)"
   ]
  },
  {
   "cell_type": "markdown",
   "id": "135f153e",
   "metadata": {},
   "source": [
    "Now, we're going to rename the value and units columns to have more meaningful column names."
   ]
  },
  {
   "cell_type": "code",
   "execution_count": 16,
   "id": "792c7afa",
   "metadata": {
    "scrolled": true
   },
   "outputs": [
    {
     "data": {
      "text/html": [
       "<div>\n",
       "<style scoped>\n",
       "    .dataframe tbody tr th:only-of-type {\n",
       "        vertical-align: middle;\n",
       "    }\n",
       "\n",
       "    .dataframe tbody tr th {\n",
       "        vertical-align: top;\n",
       "    }\n",
       "\n",
       "    .dataframe thead th {\n",
       "        text-align: right;\n",
       "    }\n",
       "</style>\n",
       "<table border=\"1\" class=\"dataframe\">\n",
       "  <thead>\n",
       "    <tr style=\"text-align: right;\">\n",
       "      <th></th>\n",
       "      <th>activity_id</th>\n",
       "      <th>assay_chembl_id</th>\n",
       "      <th>assay_description</th>\n",
       "      <th>assay_type</th>\n",
       "      <th>molecule_chembl_id</th>\n",
       "      <th>relation</th>\n",
       "      <th>units</th>\n",
       "      <th>EC50</th>\n",
       "      <th>target_chembl_id</th>\n",
       "      <th>target_organism</th>\n",
       "      <th>type</th>\n",
       "    </tr>\n",
       "  </thead>\n",
       "  <tbody>\n",
       "    <tr>\n",
       "      <th>0</th>\n",
       "      <td>18928369</td>\n",
       "      <td>CHEMBL4325121</td>\n",
       "      <td>Agonist activity at STING in human THP1 cells ...</td>\n",
       "      <td>B</td>\n",
       "      <td>CHEMBL4520179</td>\n",
       "      <td>=</td>\n",
       "      <td>nM</td>\n",
       "      <td>2200.0</td>\n",
       "      <td>CHEMBL4523377</td>\n",
       "      <td>Homo sapiens</td>\n",
       "      <td>EC50</td>\n",
       "    </tr>\n",
       "    <tr>\n",
       "      <th>1</th>\n",
       "      <td>18928377</td>\n",
       "      <td>CHEMBL4325121</td>\n",
       "      <td>Agonist activity at STING in human THP1 cells ...</td>\n",
       "      <td>B</td>\n",
       "      <td>CHEMBL4441285</td>\n",
       "      <td>=</td>\n",
       "      <td>nM</td>\n",
       "      <td>872.0</td>\n",
       "      <td>CHEMBL4523377</td>\n",
       "      <td>Homo sapiens</td>\n",
       "      <td>EC50</td>\n",
       "    </tr>\n",
       "    <tr>\n",
       "      <th>2</th>\n",
       "      <td>18928378</td>\n",
       "      <td>CHEMBL4325121</td>\n",
       "      <td>Agonist activity at STING in human THP1 cells ...</td>\n",
       "      <td>B</td>\n",
       "      <td>CHEMBL4534434</td>\n",
       "      <td>=</td>\n",
       "      <td>nM</td>\n",
       "      <td>3300.0</td>\n",
       "      <td>CHEMBL4523377</td>\n",
       "      <td>Homo sapiens</td>\n",
       "      <td>EC50</td>\n",
       "    </tr>\n",
       "    <tr>\n",
       "      <th>3</th>\n",
       "      <td>18928379</td>\n",
       "      <td>CHEMBL4325121</td>\n",
       "      <td>Agonist activity at STING in human THP1 cells ...</td>\n",
       "      <td>B</td>\n",
       "      <td>CHEMBL4465054</td>\n",
       "      <td>=</td>\n",
       "      <td>nM</td>\n",
       "      <td>38600.0</td>\n",
       "      <td>CHEMBL4523377</td>\n",
       "      <td>Homo sapiens</td>\n",
       "      <td>EC50</td>\n",
       "    </tr>\n",
       "    <tr>\n",
       "      <th>4</th>\n",
       "      <td>18928411</td>\n",
       "      <td>CHEMBL4325121</td>\n",
       "      <td>Agonist activity at STING in human THP1 cells ...</td>\n",
       "      <td>B</td>\n",
       "      <td>CHEMBL4440230</td>\n",
       "      <td>=</td>\n",
       "      <td>nM</td>\n",
       "      <td>1140.0</td>\n",
       "      <td>CHEMBL4523377</td>\n",
       "      <td>Homo sapiens</td>\n",
       "      <td>EC50</td>\n",
       "    </tr>\n",
       "    <tr>\n",
       "      <th>5</th>\n",
       "      <td>18928413</td>\n",
       "      <td>CHEMBL4325121</td>\n",
       "      <td>Agonist activity at STING in human THP1 cells ...</td>\n",
       "      <td>B</td>\n",
       "      <td>CHEMBL4516456</td>\n",
       "      <td>=</td>\n",
       "      <td>nM</td>\n",
       "      <td>1900.0</td>\n",
       "      <td>CHEMBL4523377</td>\n",
       "      <td>Homo sapiens</td>\n",
       "      <td>EC50</td>\n",
       "    </tr>\n",
       "    <tr>\n",
       "      <th>6</th>\n",
       "      <td>18928414</td>\n",
       "      <td>CHEMBL4325121</td>\n",
       "      <td>Agonist activity at STING in human THP1 cells ...</td>\n",
       "      <td>B</td>\n",
       "      <td>CHEMBL4526896</td>\n",
       "      <td>=</td>\n",
       "      <td>nM</td>\n",
       "      <td>287.0</td>\n",
       "      <td>CHEMBL4523377</td>\n",
       "      <td>Homo sapiens</td>\n",
       "      <td>EC50</td>\n",
       "    </tr>\n",
       "    <tr>\n",
       "      <th>7</th>\n",
       "      <td>18928416</td>\n",
       "      <td>CHEMBL4325121</td>\n",
       "      <td>Agonist activity at STING in human THP1 cells ...</td>\n",
       "      <td>B</td>\n",
       "      <td>CHEMBL4540261</td>\n",
       "      <td>=</td>\n",
       "      <td>nM</td>\n",
       "      <td>2850.0</td>\n",
       "      <td>CHEMBL4523377</td>\n",
       "      <td>Homo sapiens</td>\n",
       "      <td>EC50</td>\n",
       "    </tr>\n",
       "    <tr>\n",
       "      <th>8</th>\n",
       "      <td>18928417</td>\n",
       "      <td>CHEMBL4325121</td>\n",
       "      <td>Agonist activity at STING in human THP1 cells ...</td>\n",
       "      <td>B</td>\n",
       "      <td>CHEMBL4445004</td>\n",
       "      <td>=</td>\n",
       "      <td>nM</td>\n",
       "      <td>3000.0</td>\n",
       "      <td>CHEMBL4523377</td>\n",
       "      <td>Homo sapiens</td>\n",
       "      <td>EC50</td>\n",
       "    </tr>\n",
       "    <tr>\n",
       "      <th>9</th>\n",
       "      <td>18928418</td>\n",
       "      <td>CHEMBL4325121</td>\n",
       "      <td>Agonist activity at STING in human THP1 cells ...</td>\n",
       "      <td>B</td>\n",
       "      <td>CHEMBL4456973</td>\n",
       "      <td>=</td>\n",
       "      <td>nM</td>\n",
       "      <td>1240.0</td>\n",
       "      <td>CHEMBL4523377</td>\n",
       "      <td>Homo sapiens</td>\n",
       "      <td>EC50</td>\n",
       "    </tr>\n",
       "  </tbody>\n",
       "</table>\n",
       "</div>"
      ],
      "text/plain": [
       "   activity_id assay_chembl_id  \\\n",
       "0     18928369   CHEMBL4325121   \n",
       "1     18928377   CHEMBL4325121   \n",
       "2     18928378   CHEMBL4325121   \n",
       "3     18928379   CHEMBL4325121   \n",
       "4     18928411   CHEMBL4325121   \n",
       "5     18928413   CHEMBL4325121   \n",
       "6     18928414   CHEMBL4325121   \n",
       "7     18928416   CHEMBL4325121   \n",
       "8     18928417   CHEMBL4325121   \n",
       "9     18928418   CHEMBL4325121   \n",
       "\n",
       "                                   assay_description assay_type  \\\n",
       "0  Agonist activity at STING in human THP1 cells ...          B   \n",
       "1  Agonist activity at STING in human THP1 cells ...          B   \n",
       "2  Agonist activity at STING in human THP1 cells ...          B   \n",
       "3  Agonist activity at STING in human THP1 cells ...          B   \n",
       "4  Agonist activity at STING in human THP1 cells ...          B   \n",
       "5  Agonist activity at STING in human THP1 cells ...          B   \n",
       "6  Agonist activity at STING in human THP1 cells ...          B   \n",
       "7  Agonist activity at STING in human THP1 cells ...          B   \n",
       "8  Agonist activity at STING in human THP1 cells ...          B   \n",
       "9  Agonist activity at STING in human THP1 cells ...          B   \n",
       "\n",
       "  molecule_chembl_id relation units     EC50 target_chembl_id target_organism  \\\n",
       "0      CHEMBL4520179        =    nM   2200.0    CHEMBL4523377    Homo sapiens   \n",
       "1      CHEMBL4441285        =    nM    872.0    CHEMBL4523377    Homo sapiens   \n",
       "2      CHEMBL4534434        =    nM   3300.0    CHEMBL4523377    Homo sapiens   \n",
       "3      CHEMBL4465054        =    nM  38600.0    CHEMBL4523377    Homo sapiens   \n",
       "4      CHEMBL4440230        =    nM   1140.0    CHEMBL4523377    Homo sapiens   \n",
       "5      CHEMBL4516456        =    nM   1900.0    CHEMBL4523377    Homo sapiens   \n",
       "6      CHEMBL4526896        =    nM    287.0    CHEMBL4523377    Homo sapiens   \n",
       "7      CHEMBL4540261        =    nM   2850.0    CHEMBL4523377    Homo sapiens   \n",
       "8      CHEMBL4445004        =    nM   3000.0    CHEMBL4523377    Homo sapiens   \n",
       "9      CHEMBL4456973        =    nM   1240.0    CHEMBL4523377    Homo sapiens   \n",
       "\n",
       "   type  \n",
       "0  EC50  \n",
       "1  EC50  \n",
       "2  EC50  \n",
       "3  EC50  \n",
       "4  EC50  \n",
       "5  EC50  \n",
       "6  EC50  \n",
       "7  EC50  \n",
       "8  EC50  \n",
       "9  EC50  "
      ]
     },
     "execution_count": 16,
     "metadata": {},
     "output_type": "execute_result"
    }
   ],
   "source": [
    "bioactivities_df.rename(\n",
    "    columns={\n",
    "        \"standard_value\": \"EC50\",\n",
    "        \"standard_units\": \"units\"\n",
    "    },\n",
    "    inplace=True\n",
    ")\n",
    "bioactivities_df.head(n=10)"
   ]
  },
  {
   "cell_type": "markdown",
   "id": "76df0ead",
   "metadata": {},
   "source": [
    "### 4. Find Compound Data\n",
    "\n",
    "Our bioactivity dataframe identifies all molecules tested for activity on EGFR, but it is missing additional information about the molecules.\n",
    "\n",
    "The following query searches the database for molecules in a list, where we set the list based on the list of molecules in our bioactivities DataFrame:"
   ]
  },
  {
   "cell_type": "code",
   "execution_count": 17,
   "id": "60c6fdf1",
   "metadata": {},
   "outputs": [],
   "source": [
    "compounds = compounds_api.filter(\n",
    "    molecule_chembl_id__in=list(bioactivities_df[\"molecule_chembl_id\"])\n",
    ").only(\n",
    "    \"molecule_chembl_id\",\n",
    "    \"molecule_structures\",\n",
    ")"
   ]
  },
  {
   "cell_type": "markdown",
   "id": "52646302",
   "metadata": {},
   "source": [
    "This query takes a long time, so we make a progress bar using tqdm:"
   ]
  },
  {
   "cell_type": "code",
   "execution_count": 18,
   "id": "eeb479cf",
   "metadata": {
    "scrolled": true
   },
   "outputs": [
    {
     "data": {
      "application/vnd.jupyter.widget-view+json": {
       "model_id": "1591ff0186a44520a8f7b4eba50c2f9f",
       "version_major": 2,
       "version_minor": 0
      },
      "text/plain": [
       "  0%|          | 0/70 [00:00<?, ?it/s]"
      ]
     },
     "metadata": {},
     "output_type": "display_data"
    }
   ],
   "source": [
    "from tqdm.auto import tqdm\n",
    "\n",
    "compounds_list = list(tqdm(compounds))"
   ]
  },
  {
   "cell_type": "markdown",
   "id": "34883679",
   "metadata": {},
   "source": [
    "Once that downloads, we convert it to a DataFrame:"
   ]
  },
  {
   "cell_type": "code",
   "execution_count": 19,
   "id": "292af759",
   "metadata": {},
   "outputs": [
    {
     "name": "stdout",
     "output_type": "stream",
     "text": [
      "DataFrame shape: (70, 2)\n"
     ]
    }
   ],
   "source": [
    "compounds_df = pd.DataFrame.from_records(\n",
    "    compounds_list,\n",
    ")\n",
    "print(f\"DataFrame shape: {compounds_df.shape}\")"
   ]
  },
  {
   "cell_type": "markdown",
   "id": "372196a1",
   "metadata": {},
   "source": [
    "Let's see what this table looks like:"
   ]
  },
  {
   "cell_type": "code",
   "execution_count": 20,
   "id": "ea342577",
   "metadata": {},
   "outputs": [
    {
     "data": {
      "text/html": [
       "<div>\n",
       "<style scoped>\n",
       "    .dataframe tbody tr th:only-of-type {\n",
       "        vertical-align: middle;\n",
       "    }\n",
       "\n",
       "    .dataframe tbody tr th {\n",
       "        vertical-align: top;\n",
       "    }\n",
       "\n",
       "    .dataframe thead th {\n",
       "        text-align: right;\n",
       "    }\n",
       "</style>\n",
       "<table border=\"1\" class=\"dataframe\">\n",
       "  <thead>\n",
       "    <tr style=\"text-align: right;\">\n",
       "      <th></th>\n",
       "      <th>molecule_chembl_id</th>\n",
       "      <th>molecule_structures</th>\n",
       "    </tr>\n",
       "  </thead>\n",
       "  <tbody>\n",
       "    <tr>\n",
       "      <th>0</th>\n",
       "      <td>CHEMBL1229884</td>\n",
       "      <td>{'canonical_smiles': 'Nc1ncnc2c1ncn2[C@@H]1O[C...</td>\n",
       "    </tr>\n",
       "    <tr>\n",
       "      <th>1</th>\n",
       "      <td>CHEMBL1231573</td>\n",
       "      <td>{'canonical_smiles': 'Nc1nc2c(ncn2[C@@H]2O[C@@...</td>\n",
       "    </tr>\n",
       "    <tr>\n",
       "      <th>2</th>\n",
       "      <td>CHEMBL4435159</td>\n",
       "      <td>{'canonical_smiles': 'Nc1nc2c(ncn2[C@@H]2O[C@@...</td>\n",
       "    </tr>\n",
       "    <tr>\n",
       "      <th>3</th>\n",
       "      <td>CHEMBL4438957</td>\n",
       "      <td>{'canonical_smiles': 'Nc1nc2c(ncn2[C@@H]2O[C@@...</td>\n",
       "    </tr>\n",
       "    <tr>\n",
       "      <th>4</th>\n",
       "      <td>CHEMBL4439796</td>\n",
       "      <td>{'canonical_smiles': 'Nc1nc2c(ncn2[C@@H]2O[C@@...</td>\n",
       "    </tr>\n",
       "    <tr>\n",
       "      <th>5</th>\n",
       "      <td>CHEMBL4440230</td>\n",
       "      <td>{'canonical_smiles': 'CCn1nc(C)cc1C(=O)Nc1nc2c...</td>\n",
       "    </tr>\n",
       "    <tr>\n",
       "      <th>6</th>\n",
       "      <td>CHEMBL4441285</td>\n",
       "      <td>{'canonical_smiles': 'CCn1nc(C)cc1C(=O)Nc1nc2c...</td>\n",
       "    </tr>\n",
       "    <tr>\n",
       "      <th>7</th>\n",
       "      <td>CHEMBL4441395</td>\n",
       "      <td>{'canonical_smiles': 'Nc1nc2c(ncn2[C@@H]2O[C@@...</td>\n",
       "    </tr>\n",
       "    <tr>\n",
       "      <th>8</th>\n",
       "      <td>CHEMBL4444544</td>\n",
       "      <td>{'canonical_smiles': 'Nc1nc2c(ncn2[C@@H]2O[C@@...</td>\n",
       "    </tr>\n",
       "    <tr>\n",
       "      <th>9</th>\n",
       "      <td>CHEMBL4444779</td>\n",
       "      <td>{'canonical_smiles': 'Nc1ncnc2c1ncn2[C@@H]1O[C...</td>\n",
       "    </tr>\n",
       "  </tbody>\n",
       "</table>\n",
       "</div>"
      ],
      "text/plain": [
       "  molecule_chembl_id                                molecule_structures\n",
       "0      CHEMBL1229884  {'canonical_smiles': 'Nc1ncnc2c1ncn2[C@@H]1O[C...\n",
       "1      CHEMBL1231573  {'canonical_smiles': 'Nc1nc2c(ncn2[C@@H]2O[C@@...\n",
       "2      CHEMBL4435159  {'canonical_smiles': 'Nc1nc2c(ncn2[C@@H]2O[C@@...\n",
       "3      CHEMBL4438957  {'canonical_smiles': 'Nc1nc2c(ncn2[C@@H]2O[C@@...\n",
       "4      CHEMBL4439796  {'canonical_smiles': 'Nc1nc2c(ncn2[C@@H]2O[C@@...\n",
       "5      CHEMBL4440230  {'canonical_smiles': 'CCn1nc(C)cc1C(=O)Nc1nc2c...\n",
       "6      CHEMBL4441285  {'canonical_smiles': 'CCn1nc(C)cc1C(=O)Nc1nc2c...\n",
       "7      CHEMBL4441395  {'canonical_smiles': 'Nc1nc2c(ncn2[C@@H]2O[C@@...\n",
       "8      CHEMBL4444544  {'canonical_smiles': 'Nc1nc2c(ncn2[C@@H]2O[C@@...\n",
       "9      CHEMBL4444779  {'canonical_smiles': 'Nc1ncnc2c1ncn2[C@@H]1O[C..."
      ]
     },
     "execution_count": 20,
     "metadata": {},
     "output_type": "execute_result"
    }
   ],
   "source": [
    "compounds_df.head(n=10)"
   ]
  },
  {
   "cell_type": "markdown",
   "id": "251c2e5e",
   "metadata": {},
   "source": [
    "Again, we remove rows with missing data using the `.dropna()` function."
   ]
  },
  {
   "cell_type": "code",
   "execution_count": 21,
   "id": "11a653c9",
   "metadata": {},
   "outputs": [
    {
     "name": "stdout",
     "output_type": "stream",
     "text": [
      "DataFrame shape: (69, 2)\n"
     ]
    }
   ],
   "source": [
    "compounds_df.dropna(axis=0, how=\"any\", inplace=True)\n",
    "print(f\"DataFrame shape: {compounds_df.shape}\")"
   ]
  },
  {
   "cell_type": "markdown",
   "id": "b1f3836f",
   "metadata": {},
   "source": [
    "And now we remove duplicates using the `.drop_duplicates()` function."
   ]
  },
  {
   "cell_type": "code",
   "execution_count": 22,
   "id": "656c4f2e",
   "metadata": {},
   "outputs": [
    {
     "name": "stdout",
     "output_type": "stream",
     "text": [
      "DataFrame shape: (69, 2)\n"
     ]
    }
   ],
   "source": [
    "compounds_df.drop_duplicates(\"molecule_chembl_id\", keep=\"first\", inplace=True)\n",
    "print(f\"DataFrame shape: {compounds_df.shape}\")"
   ]
  },
  {
   "cell_type": "markdown",
   "id": "61ca153c",
   "metadata": {},
   "source": [
    "Note above that the `\"molecule_structures\"` column contains dictionaries with different types of structural information ([SMILEs](https://en.wikipedia.org/wiki/Simplified_molecular-input_line-entry_system), [InChI](https://en.wikipedia.org/wiki/International_Chemical_Identifier), [MolFile](https://en.wikipedia.org/wiki/Chemical_table_file), etc.)."
   ]
  },
  {
   "cell_type": "code",
   "execution_count": 23,
   "id": "34f15943",
   "metadata": {},
   "outputs": [
    {
     "data": {
      "text/plain": [
       "dict_keys(['canonical_smiles', 'molfile', 'standard_inchi', 'standard_inchi_key'])"
      ]
     },
     "execution_count": 23,
     "metadata": {},
     "output_type": "execute_result"
    }
   ],
   "source": [
    "compounds_df.iloc[0][\"molecule_structures\"].keys()"
   ]
  },
  {
   "cell_type": "markdown",
   "id": "ea8fb704",
   "metadata": {},
   "source": [
    "This next step finds all of the structural information containing canonical SMILES strings and stores them to a new column called `\"smiles\"`.\n",
    "\n",
    "Note that I am doing this a slightly different way from the talktorial, by mapping a function across the column rather than looping over it."
   ]
  },
  {
   "cell_type": "code",
   "execution_count": 24,
   "id": "f7351a07",
   "metadata": {},
   "outputs": [],
   "source": [
    "smiles_lst = []\n",
    "\n",
    "def smiles_from_dict(mol_struct_dct):\n",
    "    smiles = None\n",
    "    if \"canonical_smiles\" in mol_struct_dct:\n",
    "        smiles = mol_struct_dct[\"canonical_smiles\"]\n",
    "    return smiles\n",
    "\n",
    "compounds_df[\"smiles\"] = compounds_df[\"molecule_structures\"].map(smiles_from_dict)"
   ]
  },
  {
   "cell_type": "markdown",
   "id": "8b654cb6",
   "metadata": {},
   "source": [
    "Now, we can drop the original `\"molecular_structures\"` column since the SMILES give us everything we need."
   ]
  },
  {
   "cell_type": "code",
   "execution_count": 25,
   "id": "edd95e98",
   "metadata": {},
   "outputs": [
    {
     "name": "stdout",
     "output_type": "stream",
     "text": [
      "DataFrame shape: (69, 2)\n"
     ]
    }
   ],
   "source": [
    "compounds_df.drop(\"molecule_structures\", axis=1, inplace=True)\n",
    "print(f\"DataFrame shape: {compounds_df.shape}\")"
   ]
  },
  {
   "cell_type": "markdown",
   "id": "7a5411d2",
   "metadata": {},
   "source": [
    "Now we have a table of ChEMBL IDs and SMILES strings."
   ]
  },
  {
   "cell_type": "code",
   "execution_count": 26,
   "id": "8c555e43",
   "metadata": {},
   "outputs": [
    {
     "data": {
      "text/html": [
       "<div>\n",
       "<style scoped>\n",
       "    .dataframe tbody tr th:only-of-type {\n",
       "        vertical-align: middle;\n",
       "    }\n",
       "\n",
       "    .dataframe tbody tr th {\n",
       "        vertical-align: top;\n",
       "    }\n",
       "\n",
       "    .dataframe thead th {\n",
       "        text-align: right;\n",
       "    }\n",
       "</style>\n",
       "<table border=\"1\" class=\"dataframe\">\n",
       "  <thead>\n",
       "    <tr style=\"text-align: right;\">\n",
       "      <th></th>\n",
       "      <th>molecule_chembl_id</th>\n",
       "      <th>smiles</th>\n",
       "    </tr>\n",
       "  </thead>\n",
       "  <tbody>\n",
       "    <tr>\n",
       "      <th>0</th>\n",
       "      <td>CHEMBL1229884</td>\n",
       "      <td>Nc1ncnc2c1ncn2[C@@H]1O[C@@H]2CO[P@@](=O)(O)O[C...</td>\n",
       "    </tr>\n",
       "    <tr>\n",
       "      <th>1</th>\n",
       "      <td>CHEMBL1231573</td>\n",
       "      <td>Nc1nc2c(ncn2[C@@H]2O[C@@H]3CO[P@](=O)(O)O[C@@H...</td>\n",
       "    </tr>\n",
       "    <tr>\n",
       "      <th>2</th>\n",
       "      <td>CHEMBL4435159</td>\n",
       "      <td>Nc1nc2c(ncn2[C@@H]2O[C@@H]3COP(=O)(O)O[C@@H]4[...</td>\n",
       "    </tr>\n",
       "    <tr>\n",
       "      <th>3</th>\n",
       "      <td>CHEMBL4438957</td>\n",
       "      <td>Nc1nc2c(ncn2[C@@H]2O[C@@H]3COP(=O)(S)O[C@@H]4[...</td>\n",
       "    </tr>\n",
       "    <tr>\n",
       "      <th>4</th>\n",
       "      <td>CHEMBL4439796</td>\n",
       "      <td>Nc1nc2c(ncn2[C@@H]2O[C@@H]3COP(=O)(O)O[C@H]4C[...</td>\n",
       "    </tr>\n",
       "    <tr>\n",
       "      <th>5</th>\n",
       "      <td>CHEMBL4440230</td>\n",
       "      <td>CCn1nc(C)cc1C(=O)Nc1nc2cc(C(N)=O)cc(OCCCN3CCOC...</td>\n",
       "    </tr>\n",
       "    <tr>\n",
       "      <th>6</th>\n",
       "      <td>CHEMBL4441285</td>\n",
       "      <td>CCn1nc(C)cc1C(=O)Nc1nc2cc(C(N)=O)cc(OC)c2n1CCC...</td>\n",
       "    </tr>\n",
       "    <tr>\n",
       "      <th>7</th>\n",
       "      <td>CHEMBL4441395</td>\n",
       "      <td>Nc1nc2c(ncn2[C@@H]2O[C@@H]3COP(=O)(O)O[C@H]4[C...</td>\n",
       "    </tr>\n",
       "    <tr>\n",
       "      <th>8</th>\n",
       "      <td>CHEMBL4444544</td>\n",
       "      <td>Nc1nc2c(ncn2[C@@H]2O[C@@H]3COP(=O)(O)O[C@H]4[C...</td>\n",
       "    </tr>\n",
       "    <tr>\n",
       "      <th>9</th>\n",
       "      <td>CHEMBL4444779</td>\n",
       "      <td>Nc1ncnc2c1ncn2[C@@H]1O[C@@H]2CO[P@@](=O)(S)O[C...</td>\n",
       "    </tr>\n",
       "  </tbody>\n",
       "</table>\n",
       "</div>"
      ],
      "text/plain": [
       "  molecule_chembl_id                                             smiles\n",
       "0      CHEMBL1229884  Nc1ncnc2c1ncn2[C@@H]1O[C@@H]2CO[P@@](=O)(O)O[C...\n",
       "1      CHEMBL1231573  Nc1nc2c(ncn2[C@@H]2O[C@@H]3CO[P@](=O)(O)O[C@@H...\n",
       "2      CHEMBL4435159  Nc1nc2c(ncn2[C@@H]2O[C@@H]3COP(=O)(O)O[C@@H]4[...\n",
       "3      CHEMBL4438957  Nc1nc2c(ncn2[C@@H]2O[C@@H]3COP(=O)(S)O[C@@H]4[...\n",
       "4      CHEMBL4439796  Nc1nc2c(ncn2[C@@H]2O[C@@H]3COP(=O)(O)O[C@H]4C[...\n",
       "5      CHEMBL4440230  CCn1nc(C)cc1C(=O)Nc1nc2cc(C(N)=O)cc(OCCCN3CCOC...\n",
       "6      CHEMBL4441285  CCn1nc(C)cc1C(=O)Nc1nc2cc(C(N)=O)cc(OC)c2n1CCC...\n",
       "7      CHEMBL4441395  Nc1nc2c(ncn2[C@@H]2O[C@@H]3COP(=O)(O)O[C@H]4[C...\n",
       "8      CHEMBL4444544  Nc1nc2c(ncn2[C@@H]2O[C@@H]3COP(=O)(O)O[C@H]4[C...\n",
       "9      CHEMBL4444779  Nc1ncnc2c1ncn2[C@@H]1O[C@@H]2CO[P@@](=O)(S)O[C..."
      ]
     },
     "execution_count": 26,
     "metadata": {},
     "output_type": "execute_result"
    }
   ],
   "source": [
    "compounds_df.head(n=10)"
   ]
  },
  {
   "cell_type": "markdown",
   "id": "74cd72ec",
   "metadata": {},
   "source": [
    "### 5. Combine Bioactivity and Compound DataFrames\n",
    "\n",
    "Above, we generated a DataFrame of bioactivities for specific molecules, by their ChEMBL IDs.\n",
    "After that, we generated a DataFrame containing the SMILES strings for each of these bioactive compounds.\n",
    "\n",
    "Now we wish to join these two tables, dropping any compounds for which we weren't able to get structural information (i.e. SMILES strings)."
   ]
  },
  {
   "cell_type": "code",
   "execution_count": 27,
   "id": "41e644ff",
   "metadata": {},
   "outputs": [
    {
     "name": "stdout",
     "output_type": "stream",
     "text": [
      "Bioactivities rows: 70\n",
      "Bioactivities columns:\n"
     ]
    },
    {
     "data": {
      "text/plain": [
       "Index(['activity_id', 'assay_chembl_id', 'assay_description', 'assay_type',\n",
       "       'molecule_chembl_id', 'relation', 'units', 'EC50', 'target_chembl_id',\n",
       "       'target_organism', 'type'],\n",
       "      dtype='object')"
      ]
     },
     "execution_count": 27,
     "metadata": {},
     "output_type": "execute_result"
    }
   ],
   "source": [
    "print(f\"Bioactivities rows: {bioactivities_df.shape[0]}\")\n",
    "print(\"Bioactivities columns:\")\n",
    "bioactivities_df.columns"
   ]
  },
  {
   "cell_type": "code",
   "execution_count": 28,
   "id": "2e514802",
   "metadata": {},
   "outputs": [
    {
     "name": "stdout",
     "output_type": "stream",
     "text": [
      "Compounds rows: 69\n",
      "Compounds columns:\n"
     ]
    },
    {
     "data": {
      "text/plain": [
       "Index(['molecule_chembl_id', 'smiles'], dtype='object')"
      ]
     },
     "execution_count": 28,
     "metadata": {},
     "output_type": "execute_result"
    }
   ],
   "source": [
    "print(f\"Compounds rows: {compounds_df.shape[0]}\")\n",
    "print(\"Compounds columns:\")\n",
    "compounds_df.columns"
   ]
  },
  {
   "cell_type": "markdown",
   "id": "cbe7ce4b",
   "metadata": {},
   "source": [
    "We will join these two tables using [the `merge` method](https://pandas.pydata.org/docs/reference/api/pandas.merge.html?highlight=merge#pandas.merge), joining rows with matching ChEMBL IDs:"
   ]
  },
  {
   "cell_type": "code",
   "execution_count": 29,
   "id": "10759c09",
   "metadata": {},
   "outputs": [],
   "source": [
    "# Join the two DataFrames on the ChEMBL ID column\n",
    "new_df = pd.merge(\n",
    "    bioactivities_df[[\"molecule_chembl_id\", \"EC50\", \"units\"]],\n",
    "    compounds_df,\n",
    "    on=\"molecule_chembl_id\",\n",
    ")\n",
    "\n",
    "# Reset the row indices\n",
    "new_df.reset_index(drop=True, inplace=True)\n",
    "\n",
    "# Let this be the new compounds DataFrame\n",
    "compounds_df = new_df"
   ]
  },
  {
   "cell_type": "markdown",
   "id": "695bf972",
   "metadata": {},
   "source": [
    "We can see that it worked by looking at the resulting DataFrame:"
   ]
  },
  {
   "cell_type": "code",
   "execution_count": 30,
   "id": "f484ab88",
   "metadata": {},
   "outputs": [
    {
     "name": "stdout",
     "output_type": "stream",
     "text": [
      "Compounds rows: 69\n",
      "Compounds columns:\n"
     ]
    },
    {
     "data": {
      "text/plain": [
       "Index(['molecule_chembl_id', 'EC50', 'units', 'smiles'], dtype='object')"
      ]
     },
     "execution_count": 30,
     "metadata": {},
     "output_type": "execute_result"
    }
   ],
   "source": [
    "print(f\"Compounds rows: {compounds_df.shape[0]}\")\n",
    "print(\"Compounds columns:\")\n",
    "compounds_df.columns"
   ]
  },
  {
   "cell_type": "code",
   "execution_count": 31,
   "id": "854bcf99",
   "metadata": {},
   "outputs": [
    {
     "data": {
      "text/html": [
       "<div>\n",
       "<style scoped>\n",
       "    .dataframe tbody tr th:only-of-type {\n",
       "        vertical-align: middle;\n",
       "    }\n",
       "\n",
       "    .dataframe tbody tr th {\n",
       "        vertical-align: top;\n",
       "    }\n",
       "\n",
       "    .dataframe thead th {\n",
       "        text-align: right;\n",
       "    }\n",
       "</style>\n",
       "<table border=\"1\" class=\"dataframe\">\n",
       "  <thead>\n",
       "    <tr style=\"text-align: right;\">\n",
       "      <th></th>\n",
       "      <th>molecule_chembl_id</th>\n",
       "      <th>EC50</th>\n",
       "      <th>units</th>\n",
       "      <th>smiles</th>\n",
       "    </tr>\n",
       "  </thead>\n",
       "  <tbody>\n",
       "    <tr>\n",
       "      <th>0</th>\n",
       "      <td>CHEMBL4520179</td>\n",
       "      <td>2200.0</td>\n",
       "      <td>nM</td>\n",
       "      <td>COc1cc(C(N)=O)cc2nc(NC(=O)c3cccnn3)n(CCCNC(=O)...</td>\n",
       "    </tr>\n",
       "    <tr>\n",
       "      <th>1</th>\n",
       "      <td>CHEMBL4441285</td>\n",
       "      <td>872.0</td>\n",
       "      <td>nM</td>\n",
       "      <td>CCn1nc(C)cc1C(=O)Nc1nc2cc(C(N)=O)cc(OC)c2n1CCC...</td>\n",
       "    </tr>\n",
       "    <tr>\n",
       "      <th>2</th>\n",
       "      <td>CHEMBL4534434</td>\n",
       "      <td>3300.0</td>\n",
       "      <td>nM</td>\n",
       "      <td>CCCn1c(NC(=O)c2cc(C)nn2CC)nc2cc(C(N)=O)ccc21</td>\n",
       "    </tr>\n",
       "    <tr>\n",
       "      <th>3</th>\n",
       "      <td>CHEMBL4465054</td>\n",
       "      <td>38600.0</td>\n",
       "      <td>nM</td>\n",
       "      <td>Nc1nc2c(ncn2[C@@H]2O[C@@H]3COP(=O)(O)O[C@@H]4[...</td>\n",
       "    </tr>\n",
       "    <tr>\n",
       "      <th>4</th>\n",
       "      <td>CHEMBL4440230</td>\n",
       "      <td>1140.0</td>\n",
       "      <td>nM</td>\n",
       "      <td>CCn1nc(C)cc1C(=O)Nc1nc2cc(C(N)=O)cc(OCCCN3CCOC...</td>\n",
       "    </tr>\n",
       "    <tr>\n",
       "      <th>5</th>\n",
       "      <td>CHEMBL4516456</td>\n",
       "      <td>1900.0</td>\n",
       "      <td>nM</td>\n",
       "      <td>COCCCOc1cc(C(N)=O)cc2nc(NC(=O)c3ccccn3)n(CCCNC...</td>\n",
       "    </tr>\n",
       "    <tr>\n",
       "      <th>6</th>\n",
       "      <td>CHEMBL4540261</td>\n",
       "      <td>2850.0</td>\n",
       "      <td>nM</td>\n",
       "      <td>COc1cc(C(N)=O)cc2nc(NC(=O)c3cccnn3)n(CCCCNC(=O...</td>\n",
       "    </tr>\n",
       "    <tr>\n",
       "      <th>7</th>\n",
       "      <td>CHEMBL4445004</td>\n",
       "      <td>3000.0</td>\n",
       "      <td>nM</td>\n",
       "      <td>COc1cc(C(N)=O)cc2nc(NC(=O)c3ccccn3)n(CCCCNC(=O...</td>\n",
       "    </tr>\n",
       "    <tr>\n",
       "      <th>8</th>\n",
       "      <td>CHEMBL4456973</td>\n",
       "      <td>1240.0</td>\n",
       "      <td>nM</td>\n",
       "      <td>CCn1nc(C)cc1C(=O)Nc1nc2cc(C(N)=O)cc(OC)c2n1CCC...</td>\n",
       "    </tr>\n",
       "    <tr>\n",
       "      <th>9</th>\n",
       "      <td>CHEMBL4591496</td>\n",
       "      <td>27500.0</td>\n",
       "      <td>nM</td>\n",
       "      <td>CCn1nc(C)cc1C(=O)Nc1nc2cc(C(N)=O)cc(OC)c2n1CCC...</td>\n",
       "    </tr>\n",
       "  </tbody>\n",
       "</table>\n",
       "</div>"
      ],
      "text/plain": [
       "  molecule_chembl_id     EC50 units  \\\n",
       "0      CHEMBL4520179   2200.0    nM   \n",
       "1      CHEMBL4441285    872.0    nM   \n",
       "2      CHEMBL4534434   3300.0    nM   \n",
       "3      CHEMBL4465054  38600.0    nM   \n",
       "4      CHEMBL4440230   1140.0    nM   \n",
       "5      CHEMBL4516456   1900.0    nM   \n",
       "6      CHEMBL4540261   2850.0    nM   \n",
       "7      CHEMBL4445004   3000.0    nM   \n",
       "8      CHEMBL4456973   1240.0    nM   \n",
       "9      CHEMBL4591496  27500.0    nM   \n",
       "\n",
       "                                              smiles  \n",
       "0  COc1cc(C(N)=O)cc2nc(NC(=O)c3cccnn3)n(CCCNC(=O)...  \n",
       "1  CCn1nc(C)cc1C(=O)Nc1nc2cc(C(N)=O)cc(OC)c2n1CCC...  \n",
       "2       CCCn1c(NC(=O)c2cc(C)nn2CC)nc2cc(C(N)=O)ccc21  \n",
       "3  Nc1nc2c(ncn2[C@@H]2O[C@@H]3COP(=O)(O)O[C@@H]4[...  \n",
       "4  CCn1nc(C)cc1C(=O)Nc1nc2cc(C(N)=O)cc(OCCCN3CCOC...  \n",
       "5  COCCCOc1cc(C(N)=O)cc2nc(NC(=O)c3ccccn3)n(CCCNC...  \n",
       "6  COc1cc(C(N)=O)cc2nc(NC(=O)c3cccnn3)n(CCCCNC(=O...  \n",
       "7  COc1cc(C(N)=O)cc2nc(NC(=O)c3ccccn3)n(CCCCNC(=O...  \n",
       "8  CCn1nc(C)cc1C(=O)Nc1nc2cc(C(N)=O)cc(OC)c2n1CCC...  \n",
       "9  CCn1nc(C)cc1C(=O)Nc1nc2cc(C(N)=O)cc(OC)c2n1CCC...  "
      ]
     },
     "execution_count": 31,
     "metadata": {},
     "output_type": "execute_result"
    }
   ],
   "source": [
    "compounds_df.head(n=10)"
   ]
  },
  {
   "cell_type": "markdown",
   "id": "181674ea",
   "metadata": {},
   "source": [
    "We can now add pIC50 values, which are the negative log of the molar concentration.\n",
    "Since the concentrations are in nM we subtract 9 from the log to have the log of M."
   ]
  },
  {
   "cell_type": "code",
   "execution_count": 32,
   "id": "f41aab7e",
   "metadata": {},
   "outputs": [],
   "source": [
    "import numpy\n",
    "\n",
    "def molar_log_from_nanomolar(x):\n",
    "    return -(numpy.log10(x) - 9)\n",
    "\n",
    "compounds_df[\"pEC50\"] = compounds_df[\"EC50\"].map(molar_log_from_nanomolar)"
   ]
  },
  {
   "cell_type": "code",
   "execution_count": 33,
   "id": "74a652bd",
   "metadata": {},
   "outputs": [
    {
     "data": {
      "text/html": [
       "<div>\n",
       "<style scoped>\n",
       "    .dataframe tbody tr th:only-of-type {\n",
       "        vertical-align: middle;\n",
       "    }\n",
       "\n",
       "    .dataframe tbody tr th {\n",
       "        vertical-align: top;\n",
       "    }\n",
       "\n",
       "    .dataframe thead th {\n",
       "        text-align: right;\n",
       "    }\n",
       "</style>\n",
       "<table border=\"1\" class=\"dataframe\">\n",
       "  <thead>\n",
       "    <tr style=\"text-align: right;\">\n",
       "      <th></th>\n",
       "      <th>molecule_chembl_id</th>\n",
       "      <th>EC50</th>\n",
       "      <th>units</th>\n",
       "      <th>smiles</th>\n",
       "      <th>pEC50</th>\n",
       "    </tr>\n",
       "  </thead>\n",
       "  <tbody>\n",
       "    <tr>\n",
       "      <th>0</th>\n",
       "      <td>CHEMBL4520179</td>\n",
       "      <td>2200.0</td>\n",
       "      <td>nM</td>\n",
       "      <td>COc1cc(C(N)=O)cc2nc(NC(=O)c3cccnn3)n(CCCNC(=O)...</td>\n",
       "      <td>5.657577</td>\n",
       "    </tr>\n",
       "    <tr>\n",
       "      <th>1</th>\n",
       "      <td>CHEMBL4441285</td>\n",
       "      <td>872.0</td>\n",
       "      <td>nM</td>\n",
       "      <td>CCn1nc(C)cc1C(=O)Nc1nc2cc(C(N)=O)cc(OC)c2n1CCC...</td>\n",
       "      <td>6.059484</td>\n",
       "    </tr>\n",
       "    <tr>\n",
       "      <th>2</th>\n",
       "      <td>CHEMBL4534434</td>\n",
       "      <td>3300.0</td>\n",
       "      <td>nM</td>\n",
       "      <td>CCCn1c(NC(=O)c2cc(C)nn2CC)nc2cc(C(N)=O)ccc21</td>\n",
       "      <td>5.481486</td>\n",
       "    </tr>\n",
       "    <tr>\n",
       "      <th>3</th>\n",
       "      <td>CHEMBL4465054</td>\n",
       "      <td>38600.0</td>\n",
       "      <td>nM</td>\n",
       "      <td>Nc1nc2c(ncn2[C@@H]2O[C@@H]3COP(=O)(O)O[C@@H]4[...</td>\n",
       "      <td>4.413413</td>\n",
       "    </tr>\n",
       "    <tr>\n",
       "      <th>4</th>\n",
       "      <td>CHEMBL4440230</td>\n",
       "      <td>1140.0</td>\n",
       "      <td>nM</td>\n",
       "      <td>CCn1nc(C)cc1C(=O)Nc1nc2cc(C(N)=O)cc(OCCCN3CCOC...</td>\n",
       "      <td>5.943095</td>\n",
       "    </tr>\n",
       "    <tr>\n",
       "      <th>5</th>\n",
       "      <td>CHEMBL4516456</td>\n",
       "      <td>1900.0</td>\n",
       "      <td>nM</td>\n",
       "      <td>COCCCOc1cc(C(N)=O)cc2nc(NC(=O)c3ccccn3)n(CCCNC...</td>\n",
       "      <td>5.721246</td>\n",
       "    </tr>\n",
       "    <tr>\n",
       "      <th>6</th>\n",
       "      <td>CHEMBL4540261</td>\n",
       "      <td>2850.0</td>\n",
       "      <td>nM</td>\n",
       "      <td>COc1cc(C(N)=O)cc2nc(NC(=O)c3cccnn3)n(CCCCNC(=O...</td>\n",
       "      <td>5.545155</td>\n",
       "    </tr>\n",
       "    <tr>\n",
       "      <th>7</th>\n",
       "      <td>CHEMBL4445004</td>\n",
       "      <td>3000.0</td>\n",
       "      <td>nM</td>\n",
       "      <td>COc1cc(C(N)=O)cc2nc(NC(=O)c3ccccn3)n(CCCCNC(=O...</td>\n",
       "      <td>5.522879</td>\n",
       "    </tr>\n",
       "    <tr>\n",
       "      <th>8</th>\n",
       "      <td>CHEMBL4456973</td>\n",
       "      <td>1240.0</td>\n",
       "      <td>nM</td>\n",
       "      <td>CCn1nc(C)cc1C(=O)Nc1nc2cc(C(N)=O)cc(OC)c2n1CCC...</td>\n",
       "      <td>5.906578</td>\n",
       "    </tr>\n",
       "    <tr>\n",
       "      <th>9</th>\n",
       "      <td>CHEMBL4591496</td>\n",
       "      <td>27500.0</td>\n",
       "      <td>nM</td>\n",
       "      <td>CCn1nc(C)cc1C(=O)Nc1nc2cc(C(N)=O)cc(OC)c2n1CCC...</td>\n",
       "      <td>4.560667</td>\n",
       "    </tr>\n",
       "  </tbody>\n",
       "</table>\n",
       "</div>"
      ],
      "text/plain": [
       "  molecule_chembl_id     EC50 units  \\\n",
       "0      CHEMBL4520179   2200.0    nM   \n",
       "1      CHEMBL4441285    872.0    nM   \n",
       "2      CHEMBL4534434   3300.0    nM   \n",
       "3      CHEMBL4465054  38600.0    nM   \n",
       "4      CHEMBL4440230   1140.0    nM   \n",
       "5      CHEMBL4516456   1900.0    nM   \n",
       "6      CHEMBL4540261   2850.0    nM   \n",
       "7      CHEMBL4445004   3000.0    nM   \n",
       "8      CHEMBL4456973   1240.0    nM   \n",
       "9      CHEMBL4591496  27500.0    nM   \n",
       "\n",
       "                                              smiles     pEC50  \n",
       "0  COc1cc(C(N)=O)cc2nc(NC(=O)c3cccnn3)n(CCCNC(=O)...  5.657577  \n",
       "1  CCn1nc(C)cc1C(=O)Nc1nc2cc(C(N)=O)cc(OC)c2n1CCC...  6.059484  \n",
       "2       CCCn1c(NC(=O)c2cc(C)nn2CC)nc2cc(C(N)=O)ccc21  5.481486  \n",
       "3  Nc1nc2c(ncn2[C@@H]2O[C@@H]3COP(=O)(O)O[C@@H]4[...  4.413413  \n",
       "4  CCn1nc(C)cc1C(=O)Nc1nc2cc(C(N)=O)cc(OCCCN3CCOC...  5.943095  \n",
       "5  COCCCOc1cc(C(N)=O)cc2nc(NC(=O)c3ccccn3)n(CCCNC...  5.721246  \n",
       "6  COc1cc(C(N)=O)cc2nc(NC(=O)c3cccnn3)n(CCCCNC(=O...  5.545155  \n",
       "7  COc1cc(C(N)=O)cc2nc(NC(=O)c3ccccn3)n(CCCCNC(=O...  5.522879  \n",
       "8  CCn1nc(C)cc1C(=O)Nc1nc2cc(C(N)=O)cc(OC)c2n1CCC...  5.906578  \n",
       "9  CCn1nc(C)cc1C(=O)Nc1nc2cc(C(N)=O)cc(OC)c2n1CCC...  4.560667  "
      ]
     },
     "execution_count": 33,
     "metadata": {},
     "output_type": "execute_result"
    }
   ],
   "source": [
    "compounds_df.head(n=10)"
   ]
  },
  {
   "cell_type": "markdown",
   "id": "b07b1f3e",
   "metadata": {},
   "source": [
    "Pandas makes it easy to create a histogram of our pIC50 values:"
   ]
  },
  {
   "cell_type": "code",
   "execution_count": 34,
   "id": "6bc07155",
   "metadata": {},
   "outputs": [
    {
     "data": {
      "text/plain": [
       "array([[<AxesSubplot:title={'center':'pEC50'}>]], dtype=object)"
      ]
     },
     "execution_count": 34,
     "metadata": {},
     "output_type": "execute_result"
    },
    {
     "data": {
      "image/png": "[encoded data removed]",
      "text/plain": [
       "<Figure size 432x288 with 1 Axes>"
      ]
     },
     "metadata": {
      "needs_background": "light"
     },
     "output_type": "display_data"
    }
   ],
   "source": [
    "compounds_df.hist(column=\"pEC50\")"
   ]
  },
  {
   "cell_type": "markdown",
   "id": "2d57474d",
   "metadata": {},
   "source": [
    "Their approach with PandasTools didn't work for me (there seems to be an unresolved version conflict between Pandas and RDKit), so I'm doing this differently.\n",
    "\n",
    "First, let's sort the table by pIC50:"
   ]
  },
  {
   "cell_type": "code",
   "execution_count": 35,
   "id": "d52ea748",
   "metadata": {},
   "outputs": [],
   "source": [
    "# Sort DataFrame by activity values\n",
    "compounds_df.sort_values(by=\"pEC50\", ascending=False, inplace=True)\n",
    "\n",
    "# Reset index based on the new sort order\n",
    "compounds_df.reset_index(drop=True, inplace=True)"
   ]
  },
  {
   "cell_type": "markdown",
   "id": "0f4f8131",
   "metadata": {},
   "source": [
    "Now, let's visualize the smiles for the top 10 molecules:"
   ]
  },
  {
   "cell_type": "code",
   "execution_count": 36,
   "id": "a7ba6155",
   "metadata": {},
   "outputs": [
    {
     "data": {
      "image/png": "[encoded data removed]",
      "text/plain": [
       "<rdkit.Chem.rdchem.Mol at 0x7f285c098120>"
      ]
     },
     "metadata": {},
     "output_type": "display_data"
    },
    {
     "data": {
      "image/png": "[encoded data removed]",
      "text/plain": [
       "<rdkit.Chem.rdchem.Mol at 0x7f285c0985d0>"
      ]
     },
     "metadata": {},
     "output_type": "display_data"
    },
    {
     "data": {
      "image/png": "[encoded data removed]",
      "text/plain": [
       "<rdkit.Chem.rdchem.Mol at 0x7f285c098760>"
      ]
     },
     "metadata": {},
     "output_type": "display_data"
    },
    {
     "data": {
      "image/png": "[encoded data removed]",
      "text/plain": [
       "<rdkit.Chem.rdchem.Mol at 0x7f285c098710>"
      ]
     },
     "metadata": {},
     "output_type": "display_data"
    },
    {
     "data": {
      "image/png": "[encoded data removed]",
      "text/plain": [
       "<rdkit.Chem.rdchem.Mol at 0x7f285c0988a0>"
      ]
     },
     "metadata": {},
     "output_type": "display_data"
    },
    {
     "data": {
      "image/png": "[encoded data removed]",
      "text/plain": [
       "<rdkit.Chem.rdchem.Mol at 0x7f285c098940>"
      ]
     },
     "metadata": {},
     "output_type": "display_data"
    },
    {
     "data": {
      "image/png": "[encoded data removed]",
      "text/plain": [
       "<rdkit.Chem.rdchem.Mol at 0x7f285c0989e0>"
      ]
     },
     "metadata": {},
     "output_type": "display_data"
    },
    {
     "data": {
      "image/png": "[encoded data removed]",
      "text/plain": [
       "<rdkit.Chem.rdchem.Mol at 0x7f285c098a80>"
      ]
     },
     "metadata": {},
     "output_type": "display_data"
    },
    {
     "data": {
      "image/png": "[encoded data removed]",
      "text/plain": [
       "<rdkit.Chem.rdchem.Mol at 0x7f285c098b70>"
      ]
     },
     "metadata": {},
     "output_type": "display_data"
    },
    {
     "data": {
      "image/png": "[encoded data removed]",
      "text/plain": [
       "<rdkit.Chem.rdchem.Mol at 0x7f285c098c10>"
      ]
     },
     "metadata": {},
     "output_type": "display_data"
    }
   ],
   "source": [
    "from rdkit import Chem as rdc\n",
    "from IPython.display import display\n",
    "\n",
    "for i in range(10):\n",
    "    display(rdc.MolFromSmiles(compounds_df.iloc[i][\"smiles\"]))"
   ]
  },
  {
   "cell_type": "markdown",
   "id": "cbfbd4cc",
   "metadata": {},
   "source": [
    "The RDKit images can't be saved in a CSV file, so we will drop them again."
   ]
  },
  {
   "cell_type": "code",
   "execution_count": 37,
   "id": "06e0494c",
   "metadata": {},
   "outputs": [
    {
     "data": {
      "text/html": [
       "<div>\n",
       "<style scoped>\n",
       "    .dataframe tbody tr th:only-of-type {\n",
       "        vertical-align: middle;\n",
       "    }\n",
       "\n",
       "    .dataframe tbody tr th {\n",
       "        vertical-align: top;\n",
       "    }\n",
       "\n",
       "    .dataframe thead th {\n",
       "        text-align: right;\n",
       "    }\n",
       "</style>\n",
       "<table border=\"1\" class=\"dataframe\">\n",
       "  <thead>\n",
       "    <tr style=\"text-align: right;\">\n",
       "      <th></th>\n",
       "      <th>molecule_chembl_id</th>\n",
       "      <th>EC50</th>\n",
       "      <th>units</th>\n",
       "      <th>smiles</th>\n",
       "      <th>pEC50</th>\n",
       "    </tr>\n",
       "  </thead>\n",
       "  <tbody>\n",
       "    <tr>\n",
       "      <th>0</th>\n",
       "      <td>CHEMBL4441395</td>\n",
       "      <td>40.0</td>\n",
       "      <td>nM</td>\n",
       "      <td>Nc1nc2c(ncn2[C@@H]2O[C@@H]3COP(=O)(O)O[C@H]4[C...</td>\n",
       "      <td>7.397940</td>\n",
       "    </tr>\n",
       "    <tr>\n",
       "      <th>1</th>\n",
       "      <td>CHEMBL4445083</td>\n",
       "      <td>50.0</td>\n",
       "      <td>nM</td>\n",
       "      <td>Nc1nc2c(ncn2[C@@H]2O[C@@H]3COP(=O)(O)O[C@H]4C[...</td>\n",
       "      <td>7.301030</td>\n",
       "    </tr>\n",
       "    <tr>\n",
       "      <th>2</th>\n",
       "      <td>CHEMBL4573882</td>\n",
       "      <td>60.0</td>\n",
       "      <td>nM</td>\n",
       "      <td>Nc1nc2c(ncn2[C@@H]2O[C@@H]3COP(=O)(S)O[C@@H]4[...</td>\n",
       "      <td>7.221849</td>\n",
       "    </tr>\n",
       "    <tr>\n",
       "      <th>3</th>\n",
       "      <td>CHEMBL4588248</td>\n",
       "      <td>130.0</td>\n",
       "      <td>nM</td>\n",
       "      <td>Nc1ncnc2c1ncn2[C@@H]1O[C@@H]2COP(=O)(O)O[C@@H]...</td>\n",
       "      <td>6.886057</td>\n",
       "    </tr>\n",
       "    <tr>\n",
       "      <th>4</th>\n",
       "      <td>CHEMBL4566810</td>\n",
       "      <td>230.0</td>\n",
       "      <td>nM</td>\n",
       "      <td>Nc1nc2c(ncn2[C@@H]2O[C@@H]3COP(=O)(O)O[C@@H]4[...</td>\n",
       "      <td>6.638272</td>\n",
       "    </tr>\n",
       "    <tr>\n",
       "      <th>5</th>\n",
       "      <td>CHEMBL4465353</td>\n",
       "      <td>300.0</td>\n",
       "      <td>nM</td>\n",
       "      <td>CSc1nc(N)nc2c1ncn2[C@@H]1O[C@@H]2COP(=O)(O)O[C...</td>\n",
       "      <td>6.522879</td>\n",
       "    </tr>\n",
       "    <tr>\n",
       "      <th>6</th>\n",
       "      <td>CHEMBL4566128</td>\n",
       "      <td>320.0</td>\n",
       "      <td>nM</td>\n",
       "      <td>NC(=O)c1ncn([C@@H]2O[C@@H]3COP(=O)(O)O[C@@H]4[...</td>\n",
       "      <td>6.494850</td>\n",
       "    </tr>\n",
       "    <tr>\n",
       "      <th>7</th>\n",
       "      <td>CHEMBL4457089</td>\n",
       "      <td>390.0</td>\n",
       "      <td>nM</td>\n",
       "      <td>Nc1nc2c(ncn2[C@@H]2O[C@@H]3COP(=O)(S)OC[C@@H]4...</td>\n",
       "      <td>6.408935</td>\n",
       "    </tr>\n",
       "    <tr>\n",
       "      <th>8</th>\n",
       "      <td>CHEMBL4472356</td>\n",
       "      <td>740.0</td>\n",
       "      <td>nM</td>\n",
       "      <td>C=C1[C@@H]2COP(O)(=S)O[C@@H]3[C@H](F)[C@@H](CO...</td>\n",
       "      <td>6.130768</td>\n",
       "    </tr>\n",
       "    <tr>\n",
       "      <th>9</th>\n",
       "      <td>CHEMBL4556336</td>\n",
       "      <td>830.0</td>\n",
       "      <td>nM</td>\n",
       "      <td>NC(=O)c1ncn([C@@H]2O[C@@H]3COP(=O)(O)O[C@@H]4[...</td>\n",
       "      <td>6.080922</td>\n",
       "    </tr>\n",
       "  </tbody>\n",
       "</table>\n",
       "</div>"
      ],
      "text/plain": [
       "  molecule_chembl_id   EC50 units  \\\n",
       "0      CHEMBL4441395   40.0    nM   \n",
       "1      CHEMBL4445083   50.0    nM   \n",
       "2      CHEMBL4573882   60.0    nM   \n",
       "3      CHEMBL4588248  130.0    nM   \n",
       "4      CHEMBL4566810  230.0    nM   \n",
       "5      CHEMBL4465353  300.0    nM   \n",
       "6      CHEMBL4566128  320.0    nM   \n",
       "7      CHEMBL4457089  390.0    nM   \n",
       "8      CHEMBL4472356  740.0    nM   \n",
       "9      CHEMBL4556336  830.0    nM   \n",
       "\n",
       "                                              smiles     pEC50  \n",
       "0  Nc1nc2c(ncn2[C@@H]2O[C@@H]3COP(=O)(O)O[C@H]4[C...  7.397940  \n",
       "1  Nc1nc2c(ncn2[C@@H]2O[C@@H]3COP(=O)(O)O[C@H]4C[...  7.301030  \n",
       "2  Nc1nc2c(ncn2[C@@H]2O[C@@H]3COP(=O)(S)O[C@@H]4[...  7.221849  \n",
       "3  Nc1ncnc2c1ncn2[C@@H]1O[C@@H]2COP(=O)(O)O[C@@H]...  6.886057  \n",
       "4  Nc1nc2c(ncn2[C@@H]2O[C@@H]3COP(=O)(O)O[C@@H]4[...  6.638272  \n",
       "5  CSc1nc(N)nc2c1ncn2[C@@H]1O[C@@H]2COP(=O)(O)O[C...  6.522879  \n",
       "6  NC(=O)c1ncn([C@@H]2O[C@@H]3COP(=O)(O)O[C@@H]4[...  6.494850  \n",
       "7  Nc1nc2c(ncn2[C@@H]2O[C@@H]3COP(=O)(S)OC[C@@H]4...  6.408935  \n",
       "8  C=C1[C@@H]2COP(O)(=S)O[C@@H]3[C@H](F)[C@@H](CO...  6.130768  \n",
       "9  NC(=O)c1ncn([C@@H]2O[C@@H]3COP(=O)(O)O[C@@H]4[...  6.080922  "
      ]
     },
     "execution_count": 37,
     "metadata": {},
     "output_type": "execute_result"
    }
   ],
   "source": [
    "compounds_df.head(n=10)"
   ]
  },
  {
   "cell_type": "markdown",
   "id": "89147cd3",
   "metadata": {},
   "source": [
    "### 6. Save the Final Result\n",
    "\n",
    "Now that we have done all that work to generate a nice table of compounds, let's save the result as a CSV file."
   ]
  },
  {
   "cell_type": "markdown",
   "id": "ec0d8c7e",
   "metadata": {},
   "source": [
    "First, let's create a directory where our data will be stored."
   ]
  },
  {
   "cell_type": "code",
   "execution_count": 38,
   "id": "e278abbe",
   "metadata": {},
   "outputs": [],
   "source": [
    "import os\n",
    "\n",
    "# Get the current working directory\n",
    "os.getcwd()\n",
    "\n",
    "# Create a data directory inside it\n",
    "data_path = os.path.join(os.getcwd(), \"data\")\n",
    "\n",
    "# If this directory doesn't already exist, create it\n",
    "if not os.path.exists(data_path):\n",
    "    os.mkdir(data_path)"
   ]
  },
  {
   "cell_type": "markdown",
   "id": "258cc88a",
   "metadata": {},
   "source": [
    "Finally, write the DataFrame to a CSV file in our data directory."
   ]
  },
  {
   "cell_type": "code",
   "execution_count": 39,
   "id": "6b7cf599",
   "metadata": {},
   "outputs": [
    {
     "name": "stdout",
     "output_type": "stream",
     "text": [
      "Saved to /home/avcopan/Documents/repos/cadd/cadd-practice/data/EGFR_compounds_STING.csv\n"
     ]
    }
   ],
   "source": [
    "compounds_file_path = os.path.join(data_path, \"EGFR_compounds_STING.csv\")\n",
    "compounds_df.to_csv(compounds_file_path)\n",
    "print(f\"Saved to {compounds_file_path}\")"
   ]
  },
  {
   "cell_type": "code",
   "execution_count": null,
   "id": "d91046bb",
   "metadata": {},
   "outputs": [],
   "source": []
  }
 ],
 "metadata": {
  "kernelspec": {
   "display_name": "Python 3 (ipykernel)",
   "language": "python",
   "name": "python3"
  },
  "language_info": {
   "codemirror_mode": {
    "name": "ipython",
    "version": 3
   },
   "file_extension": ".py",
   "mimetype": "text/x-python",
   "name": "python",
   "nbconvert_exporter": "python",
   "pygments_lexer": "ipython3",
   "version": "3.7.10"
  }
 },
 "nbformat": 4,
 "nbformat_minor": 5
}
